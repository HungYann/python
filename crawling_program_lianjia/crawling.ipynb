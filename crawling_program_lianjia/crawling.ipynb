{
 "cells": [
  {
   "cell_type": "code",
   "execution_count": 54,
   "metadata": {},
   "outputs": [],
   "source": [
    "html_doc = \"\"\"\n",
    "<html><head><title>The Dormouse's story</title></head>\n",
    "<body>\n",
    "<p class=\"title\"><b>The Dormouse's story</b></p>\n",
    "\n",
    "<p class=\"story\">Once upon a time there were three little sisters; and their names were\n",
    "<a href=\"http://example.com/elsie\" class=\"sister\" id=\"link1\">Elsie</a>,\n",
    "<a href=\"http://example.com/lacie\" class=\"sister\" id=\"link2\">Lacie</a> and\n",
    "<a href=\"http://example.com/tillie\" class=\"sister\" id=\"link3\">Tillie</a>;\n",
    "and they lived at the bottom of a well.</p>\n",
    "\n",
    "<p class=\"story\">...</p>\n",
    "\"\"\""
   ]
  },
  {
   "cell_type": "code",
   "execution_count": 55,
   "metadata": {},
   "outputs": [],
   "source": [
    "from bs4 import BeautifulSoup\n",
    "soup = BeautifulSoup(html_doc)"
   ]
  },
  {
   "cell_type": "code",
   "execution_count": 56,
   "metadata": {},
   "outputs": [
    {
     "name": "stdout",
     "output_type": "stream",
     "text": [
      "<html>\n",
      " <head>\n",
      "  <title>\n",
      "   The Dormouse's story\n",
      "  </title>\n",
      " </head>\n",
      " <body>\n",
      "  <p class=\"title\">\n",
      "   <b>\n",
      "    The Dormouse's story\n",
      "   </b>\n",
      "  </p>\n",
      "  <p class=\"story\">\n",
      "   Once upon a time there were three little sisters; and their names were\n",
      "   <a class=\"sister\" href=\"http://example.com/elsie\" id=\"link1\">\n",
      "    Elsie\n",
      "   </a>\n",
      "   ,\n",
      "   <a class=\"sister\" href=\"http://example.com/lacie\" id=\"link2\">\n",
      "    Lacie\n",
      "   </a>\n",
      "   and\n",
      "   <a class=\"sister\" href=\"http://example.com/tillie\" id=\"link3\">\n",
      "    Tillie\n",
      "   </a>\n",
      "   ;\n",
      "and they lived at the bottom of a well.\n",
      "  </p>\n",
      "  <p class=\"story\">\n",
      "   ...\n",
      "  </p>\n",
      " </body>\n",
      "</html>\n"
     ]
    }
   ],
   "source": [
    "print(soup.prettify())"
   ]
  },
  {
   "cell_type": "code",
   "execution_count": 57,
   "metadata": {},
   "outputs": [
    {
     "data": {
      "text/plain": [
       "<title>The Dormouse's story</title>"
      ]
     },
     "execution_count": 57,
     "metadata": {},
     "output_type": "execute_result"
    }
   ],
   "source": [
    "# 浏览器结构化数据方法\n",
    "soup.title\n"
   ]
  },
  {
   "cell_type": "code",
   "execution_count": 58,
   "metadata": {},
   "outputs": [
    {
     "data": {
      "text/plain": [
       "<p class=\"title\"><b>The Dormouse's story</b></p>"
      ]
     },
     "execution_count": 58,
     "metadata": {},
     "output_type": "execute_result"
    }
   ],
   "source": [
    "soup.p"
   ]
  },
  {
   "cell_type": "code",
   "execution_count": 59,
   "metadata": {},
   "outputs": [
    {
     "data": {
      "text/plain": [
       "<a class=\"sister\" href=\"http://example.com/elsie\" id=\"link1\">Elsie</a>"
      ]
     },
     "execution_count": 59,
     "metadata": {},
     "output_type": "execute_result"
    }
   ],
   "source": [
    "soup.a"
   ]
  },
  {
   "cell_type": "code",
   "execution_count": 60,
   "metadata": {},
   "outputs": [
    {
     "data": {
      "text/plain": [
       "[<a class=\"sister\" href=\"http://example.com/elsie\" id=\"link1\">Elsie</a>,\n",
       " <a class=\"sister\" href=\"http://example.com/lacie\" id=\"link2\">Lacie</a>,\n",
       " <a class=\"sister\" href=\"http://example.com/tillie\" id=\"link3\">Tillie</a>]"
      ]
     },
     "execution_count": 60,
     "metadata": {},
     "output_type": "execute_result"
    }
   ],
   "source": [
    "soup.find_all('a')"
   ]
  },
  {
   "cell_type": "code",
   "execution_count": 61,
   "metadata": {},
   "outputs": [
    {
     "data": {
      "text/plain": [
       "<a class=\"sister\" href=\"http://example.com/elsie\" id=\"link1\">Elsie</a>"
      ]
     },
     "execution_count": 61,
     "metadata": {},
     "output_type": "execute_result"
    }
   ],
   "source": [
    "soup.find(id='link1')"
   ]
  },
  {
   "cell_type": "code",
   "execution_count": 62,
   "metadata": {},
   "outputs": [
    {
     "data": {
      "text/plain": [
       "\"The Dormouse's story\""
      ]
     },
     "execution_count": 62,
     "metadata": {},
     "output_type": "execute_result"
    }
   ],
   "source": [
    "soup.title.string"
   ]
  },
  {
   "cell_type": "code",
   "execution_count": 64,
   "metadata": {},
   "outputs": [
    {
     "name": "stdout",
     "output_type": "stream",
     "text": [
      "http://example.com/elsie\n",
      "http://example.com/lacie\n",
      "http://example.com/tillie\n"
     ]
    }
   ],
   "source": [
    "for link in soup.find_all('a'):\n",
    "    #print(link.get('href'))\n",
    "    #print(link.get('class'))\n",
    "    #print(link.get('id'))\n",
    "    print(link['href'])"
   ]
  },
  {
   "cell_type": "markdown",
   "metadata": {},
   "source": [
    "从文档中获取所有文字"
   ]
  },
  {
   "cell_type": "code",
   "execution_count": 31,
   "metadata": {},
   "outputs": [
    {
     "name": "stdout",
     "output_type": "stream",
     "text": [
      "The Dormouse's story\n",
      "\n",
      "The Dormouse's story\n",
      "Once upon a time there were three little sisters; and their names were\n",
      "Elsie,\n",
      "Lacie and\n",
      "Tillie;\n",
      "and they lived at the bottom of a well.\n",
      "...\n",
      "\n"
     ]
    }
   ],
   "source": [
    "print(soup.get_text())"
   ]
  },
  {
   "cell_type": "markdown",
   "metadata": {},
   "source": [
    "对象的种类\n",
    "Tag对象与xml或html原生文档中的tag相同"
   ]
  },
  {
   "cell_type": "code",
   "execution_count": 33,
   "metadata": {},
   "outputs": [],
   "source": [
    "soup = BeautifulSoup('<b class=\"boldest\">Extremely bold</b>')\n",
    "tag = soup.b"
   ]
  },
  {
   "cell_type": "code",
   "execution_count": 34,
   "metadata": {},
   "outputs": [
    {
     "data": {
      "text/plain": [
       "<b class=\"boldest\">Extremely bold</b>"
      ]
     },
     "execution_count": 34,
     "metadata": {},
     "output_type": "execute_result"
    }
   ],
   "source": [
    "tag"
   ]
  },
  {
   "cell_type": "code",
   "execution_count": 37,
   "metadata": {},
   "outputs": [
    {
     "data": {
      "text/plain": [
       "bs4.element.Tag"
      ]
     },
     "execution_count": 37,
     "metadata": {},
     "output_type": "execute_result"
    }
   ],
   "source": [
    "type(tag)"
   ]
  },
  {
   "cell_type": "markdown",
   "metadata": {},
   "source": [
    "tag对象的属性: `Name`和`Attributes`"
   ]
  },
  {
   "cell_type": "code",
   "execution_count": 38,
   "metadata": {},
   "outputs": [
    {
     "data": {
      "text/plain": [
       "'b'"
      ]
     },
     "execution_count": 38,
     "metadata": {},
     "output_type": "execute_result"
    }
   ],
   "source": [
    "tag.name"
   ]
  },
  {
   "cell_type": "code",
   "execution_count": 40,
   "metadata": {},
   "outputs": [
    {
     "data": {
      "text/plain": [
       "['boldest']"
      ]
     },
     "execution_count": 40,
     "metadata": {},
     "output_type": "execute_result"
    }
   ],
   "source": [
    "tag['class']"
   ]
  },
  {
   "cell_type": "code",
   "execution_count": 41,
   "metadata": {},
   "outputs": [
    {
     "data": {
      "text/plain": [
       "{'class': ['boldest']}"
      ]
     },
     "execution_count": 41,
     "metadata": {},
     "output_type": "execute_result"
    }
   ],
   "source": [
    "tag.attrs"
   ]
  },
  {
   "cell_type": "code",
   "execution_count": 43,
   "metadata": {},
   "outputs": [],
   "source": [
    "tag['class']='very'"
   ]
  },
  {
   "cell_type": "code",
   "execution_count": 44,
   "metadata": {},
   "outputs": [],
   "source": [
    "tag['id']=2"
   ]
  },
  {
   "cell_type": "code",
   "execution_count": 45,
   "metadata": {},
   "outputs": [
    {
     "data": {
      "text/plain": [
       "<b class=\"very\" id=\"2\">Extremely bold</b>"
      ]
     },
     "execution_count": 45,
     "metadata": {},
     "output_type": "execute_result"
    }
   ],
   "source": [
    "tag"
   ]
  },
  {
   "cell_type": "code",
   "execution_count": 49,
   "metadata": {},
   "outputs": [
    {
     "data": {
      "text/plain": [
       "['body', 'strikeout']"
      ]
     },
     "execution_count": 49,
     "metadata": {},
     "output_type": "execute_result"
    }
   ],
   "source": [
    "css_soup = BeautifulSoup('<p class=\"body strikeout\"></p>')\n",
    "css_soup.p['class']"
   ]
  },
  {
   "cell_type": "markdown",
   "metadata": {},
   "source": [
    "all_href = soup.find_all('a')\n"
   ]
  },
  {
   "cell_type": "code",
   "execution_count": 204,
   "metadata": {},
   "outputs": [],
   "source": [
    "import requests\n",
    "\n",
    "\n",
    "url = 'https://www.thestar.com.my/tech/tech-news/2020/03/02/get-in-gear-sweet-dreams-are-made-of-tech'\n",
    "url_agent = 'Mozilla/5.0 (Macintosh; Intel Mac OS X 10_15_3) AppleWebKit/537.36 (KHTML, like Gecko) Chrome/80.0.3987.122 Safari/537.36'\n",
    "headers = {'User-Agent':url_agent}\n"
   ]
  },
  {
   "cell_type": "code",
   "execution_count": 205,
   "metadata": {},
   "outputs": [],
   "source": [
    "page = requests.get(url, headers=headers)"
   ]
  },
  {
   "cell_type": "code",
   "execution_count": 206,
   "metadata": {},
   "outputs": [],
   "source": [
    "soup = BeautifulSoup(page.text,'html.parser')"
   ]
  },
  {
   "cell_type": "code",
   "execution_count": 210,
   "metadata": {},
   "outputs": [],
   "source": [
    "content = soup.find_all('div',{'class':'row content-holder story-wrapper'})"
   ]
  },
  {
   "cell_type": "code",
   "execution_count": 213,
   "metadata": {},
   "outputs": [
    {
     "data": {
      "text/plain": [
       "[<div class=\"row content-holder story-wrapper\">\n",
       " <ul class=\"col-xs-12 col-sm-12 col-md-3 side-note\" id=\"sideNote\">\n",
       " <li>\n",
       " <a class=\"kicker\" data-content-id=\"https://www.thestar.com.my/tag/get in gear\" data-content-title=\"Get In Gear\" data-content-type=\"Navigation\" data-list-type=\"Article\" href=\"/tag/get+in+gear\">Get In Gear\n",
       "                         </a>\n",
       " </li>\n",
       " <li>\n",
       " <p class=\"date\">\n",
       "                     Monday, 02 Mar 2020\n",
       "                 </p>\n",
       " <p class=\"top-15 byline\">By <a data-content-id=\"https://www.thestar.com.my/authors?q=Angelin+Yeoh\" data-content-title=\"Angelin Yeoh\" data-content-type=\"Navigation\" data-list-type=\"Article\" href=\"/authors?q=Angelin+Yeoh\">Angelin Yeoh</a></p>\n",
       " </li>\n",
       " <li>\n",
       " <ul class=\"social\">\n",
       " <!--StaticHtml-->\n",
       " <div class=\"service-panel\" style=\" margin-top: 10px; width: 85%; float: left;\">\n",
       " <!-- Remove po.st social share\n",
       "                         <div class=\"post-Wiz-Custom-Items\" data-id=\"wid-47r2u0p7\" ></div>\n",
       "                         -->\n",
       " <!-- Go to www.addthis.com/dashboard to customize your tools -->\n",
       " <script src=\"//s7.addthis.com/js/300/addthis_widget.js#pubid=ra-5dfaeb0face4ad17\" type=\"text/javascript\"></script>\n",
       " <div class=\"addthis_inline_share_toolbox\"></div>\n",
       " <div class=\"addthis_inline_share_toolbox_qyx1\"></div>\n",
       " </div>\n",
       " <!--/StaticHtml-->\n",
       " <div class=\"btn--bookmark visible-sm visible-xs pull-right\" id=\"bookmark_mobile\">\n",
       " <i class=\"fa fa-bookmark-o\"></i>\n",
       " </div>\n",
       " </ul>\n",
       " </li>\n",
       " <!--BookmarkButton-->\n",
       " <li>\n",
       " <div class=\"btn--bookmark bookmark-hidden-sm hidden-xs\" id=\"bookmark_web\">\n",
       " <i class=\"fa fa-bookmark-o\"></i>\n",
       " </div>\n",
       " <input type=\"hidden\" value=\"\"/>\n",
       " <input id=\"bmRedirect\" name=\"bmRedirect\" type=\"hidden\" value=\"https://sso.thestar.com.my/?lng=en&amp;channel=1&amp;bm=tuxe38gRa4qmlOzVfFTVhw==&amp;ru=HNQ8Auw31qgZZU47ZjHUhHKJStkK3H51/pPcFdJ1gQ9cFgPiSalasDvF6DeumuZwrrQddniDQZNzj8LzVeD2e66vUFfLel9ldPBXPZ4YmccmkAUZq38Pt0R/hymh2OITE7Uha8ZXWhJxaReGf5TJhpLwVyhhGaa8xYgmLHuvUCCXmpuzFci1dTdwic1HUCLoTk+fVtMUFkadFm6VGx6/rqVDjYlWHTThEJkU0ZI+n8Ol6wsgVA2E01fVbgw/G9iw\"/>\n",
       " <script>\n",
       "                     $('.btn--bookmark').click(function(e) {\n",
       "                         var redirectURL = $(\"#bmRedirect\").attr(\"value\");\n",
       "                         var isLoggedIn = parseInt($('#isBookmarkLoggedIn').val());\n",
       "                         if (isLoggedIn) { // logged in\n",
       "                             var vToAPI = $(\"#enbm\").attr(\"value\");\n",
       "                             var bookmarkApiUrl = location.origin + \"/api/v1/bookmark/update/\" + vToAPI;\n",
       "                             console.log('bookmarkApiUrl: ', bookmarkApiUrl);\n",
       "                             $.get(bookmarkApiUrl, function () {})\n",
       "                                 .done(function (data) {\n",
       "                                     console.log('data: ', data);\n",
       "                                     // updates the bookmark button css\n",
       "                                     $('.btn--bookmark').toggleClass('active');\n",
       "                                 })\n",
       "                                 .fail(function (data) {\n",
       "                                     console.log('fail: ', data);\n",
       "                                 });\n",
       "                         }\n",
       "                         else { // not logged in, so we need to redirect to login page\n",
       "                             console.log('redirectURL: ', redirectURL);\n",
       "                             window.location.href = redirectURL;\n",
       "                         }\n",
       "                     });\n",
       "                 </script>\n",
       " <!--/BookmarkButton-->\n",
       " </li>\n",
       " </ul>\n",
       " <article class=\"col-xs-12 col-sm-12 col-md-9 story-content\" id=\"story-Article\">\n",
       " <div class=\"inline-img\">\n",
       " <div class=\"story-image\">\n",
       " <script type=\"text/javascript\"> GenerateMediaTag({\"cms_image_id\":183661,\"np_image_id\":581262,\"image_caption\":\"Stay warm or cool with the Climate 360 smart bed. \\u2014 Sleep Number\",\"np_related_article_id\":220550,\"cms_type\":\"live\",\"image_description\":\"\",\"image_path\":\"uploads\\/images\\/2020\\/02\\/28\\/581262.JPG\",\"media_type\":0,\"is_old_image\":0,\"small_image\":\"\",\"is_updated\":0,\"image_cropping\":\"{\\\"original_image\\\":{\\\"image_original_width\\\":1176,\\\"image_original_height\\\":448,\\\"icd_image_type\\\":\\\"original_image\\\"}}\",\"media_order\":0,\"is_copied\":0,\"image_is_deleted\":0,\"image_alt_text\":\"\"},false,true); </script>\n",
       " <p class=\"caption\">Stay warm or cool with the Climate 360 smart bed. — Sleep Number</p>\n",
       " </div>\n",
       " </div>\n",
       " <script type=\"text/javascript\">\n",
       "             (function(w,d,o,u,g){w['adbro']={publisher:g,config:null};a=d.createElement(o),\n",
       "             m=d.getElementsByTagName(o)[0];a.async=1;a.src=u;m.parentNode.insertBefore(a,m);})\n",
       "             (window, document, 'script', '//cdn.adbro.me/adsbyadbro.js', '1aabaafa-a583-4b14-9e96-9fa0261924ed');\n",
       "             window.adbro.config = {\n",
       "                 selectors: {\n",
       "                     images: '.story-image > img'\n",
       "                 },\n",
       "                 functions: {\n",
       "                     onPlaceholderSized: function (div, img) {\n",
       "                         div.style.marginBottom = '-' + img.offsetHeight + 'px';\n",
       "                         div.style.display = 'inherit';\n",
       "                         div.style.zIndex = 1;\n",
       "                     },\n",
       "                     getSatellitePlaceholder: function (div) {\n",
       "                         var block = div.parentNode,\n",
       "                             satellite = document.createElement('div');\n",
       "                         satellite.style.marginTop = '-15px';\n",
       "                         satellite.style.zIndex = 1;\n",
       "                         satellite.style.position = 'relative';\n",
       "                         div.parentNode.insertBefore(satellite, div.nextElementSibling);\n",
       "                         return satellite;\n",
       "                     },\n",
       "                     onInventoryImpression: function (img, div, data) {\n",
       "                         // Creating element with DFP \"Viewed Impression\" macro:\n",
       "                         if ('%%VIEW_URL_UNESC%%' === '%%VIEW_URL' + '_UNESC%%') return;\n",
       "                         var pixel = document.createElement('img');\n",
       "                         pixel.style.cssText = 'width:1px;height:1px;display:none;';\n",
       "                         pixel.src = '%%VIEW_URL_UNESC%%';\n",
       "                         div.appendChild(pixel);\n",
       "                     }\n",
       "                 }\n",
       "             };\n",
       "             if (window.top.document.body.clientWidth < 992) {\n",
       "                 window.adbro.publisher = '2e42170d-8803-4e37-81a6-fc8a4b1855a4';\n",
       "             }\n",
       "             </script>\n",
       " <div class=\"story bot-15 relative\" id=\"story-body\">\n",
       " <!-- Content data -->\n",
       " <p>Instead of unplugging to unwind, companies are getting users to turn to tech to help them get better sleep.</p> <p><strong>Climate 360 Smart Bed</strong></p> <p>Temperature is important to sleeping soundly, according to US-based Sleep Number, which has developed a bed that helps a user fall asleep faster by warming their feet.</p> <p>After that it will keep the user snoozing by balancing the temperature based on the person’s natural wake and sleep cycles.</p> <p>The firmness of the mattress and head level on each side is adjustable, allowing you and your partner to customise the bed to each other’s liking.</p> <p>And if your partner is snoring, you could turn on the Partner Snore feature on the companion app – it will raise your partner’s head to alleviate mild snoring.</p> <p>The app can also be used to track sleep time and breathing levels.</p> <p>The price and availability will be announced later this year.</p> <p><strong>Sleep Robot</strong></p> <p>The Sleep Robot from Somnox has sensors to detect a user’s breathing pattern, allowing it to automatically adapt to the user’s breathing rate.<br/><br/><span class=\"embeded-image inline-image-center\"><img alt=\"The Sleep Robot helps lower a user’s breathing rate to help the person fall asleep. — Somnox\" onerror=\"this.src='/theme_metro/images/no-image.png'\" src=\"https://apicms.thestar.com.my/uploads/images/2020/02/28/581266.jpg\" style=\"height:1240px; width:1125px\"><span class=\"inline-caption\">The Sleep Robot helps lower a user’s breathing rate to help the person fall asleep. — Somnox</span></img></span></p> <p>The company claimed that by holding the Sleep Robot close to the chest, users will subconsciously mimic the robot’s breathing rhythm as it gradually lowers it. This will put the person’s body in relaxation mode and, ultimately, help him or her fall asleep.</p> <p>If that doesn’t help, users can play lullabies, guided meditations, audiobooks or white noise.</p> <p>The company claimed that the Sleep Robot’s design helps users maintain a natural position without deviating from their natural neck and shoulder alignment when hugging it. The Sleep Robot costs £599 (RM2,750) on the Somnox website.</p> <p><strong>Frortier Health Tracker Pillow</strong></p> <p>This pillow has an embedded device for tracking and monitoring sleep patterns.</p> <p>The data can be viewed from the Sleepace app, which also offers a daily report, with recommendations for better sleep based on a user’s breathing rate, heart rate and body movement.<br/><br/><span class=\"embeded-image inline-image-center\"><img alt=\"The Frortier Health Tracker Pillow has an embedded device for tracking and monitoring sleeping patterns. — itsLiving\" onerror=\"this.src='/theme_metro/images/no-image.png'\" src=\"https://apicms.thestar.com.my/uploads/images/2020/02/28/581267.jpg\" style=\"height:821px; width:1240px\"/><span class=\"inline-caption\">The Frortier Health Tracker Pillow has an embedded device for tracking and monitoring sleeping patterns. — itsLiving</span></span></p> <p>Sleepace can also be used to play relaxing sounds to help a user fall asleep or set up a smart alarm that wakes a person up with nature-inspired sounds.</p> <p>The tracker is claimed to be medical grade and more sensitive than most wristbands.</p> <p>The Frortier Health Tracker Pillow goes for RM688 on the itsLiving website.</p> <p><strong>Muse S</strong></p> <p>Muse S is an EEG (electroencephalogram) headband that is claimed to use advanced signal processing technology to help keep the mind calm.<br/><br/><span class=\"embeded-image inline-image-center\"><img alt=\"Muse S is claimed to provide real-time feedback on your brain activity. — Muse\" onerror=\"this.src='/theme_metro/images/no-image.png'\" src=\"https://apicms.thestar.com.my/uploads/images/2020/02/28/581264.jpg\" style=\"height:413px; width:1240px\"/><span class=\"inline-caption\">Muse S is claimed to provide real-time feedback on your brain activity. — Muse</span></span></p> <p>If the signal processor interprets your mental activity as calm, it will play a gentle weather sound but if it senses your focus drifting away, you’ll hear stormy weather which is your cue to bring your attention back to your breath.</p> <p>The accompanying app also offers a series of guided meditations such as Go-To-Sleep Journeys that are designed to help users fall asleep.</p> <p>Muse S is available online for US$350 (RM1,450).</p>\n",
       " </div>\n",
       " <div style=\"border: 1px solid red;padding: 5px;margin-bottom: 10px;\">\n",
       " <div>Article type: free</div>\n",
       " <div style=\"display: none;\">User access status: </div>\n",
       " </div>\n",
       " <!-- /Review data -->\n",
       " <!-- /GSC Weekly Top 10 data -->\n",
       " <!-- /Pagination -->\n",
       " <!-- Related stories -->\n",
       " <div class=\"row\">\n",
       " <div class=\"col-xs-12\">\n",
       " <div class=\"story\" id=\"related-stories-links\">\n",
       " </div>\n",
       " </div>\n",
       " </div>\n",
       " <!-- /Related stories -->\n",
       " <!-- /Content data -->\n",
       " <div class=\"row\">\n",
       " <div class=\"col-sm-12\">\n",
       " <!-- Tagging Keywords-->\n",
       " <p class=\"tags\">\n",
       " <label for=\"\">Topic:</label>\n",
       " </p>\n",
       " <div class=\"buttons\">\n",
       " <a class=\"btn--follow\" data-content-id=\"https://www.thestar.com.my/tag/get in gear\" data-content-title=\"Get In Gear\" data-content-type=\"Navigation\" data-list-type=\"Article\" href=\"/tag/get+in+gear\">Get In Gear</a>\n",
       " <a class=\"btn--follow\" data-content-id=\"https://www.thestar.com.my/tag/wearables\" data-content-title=\"Wearables\" data-content-type=\"Navigation\" data-list-type=\"Article\" href=\"/tag/wearables\">Wearables</a>\n",
       " <a class=\"btn--follow\" data-content-id=\"https://www.thestar.com.my/tag/technology\" data-content-title=\"Technology\" data-content-type=\"Navigation\" data-list-type=\"Article\" href=\"/tag/technology\">Technology</a>\n",
       " </div>\n",
       " <!-- /Tagging Keywords-->\n",
       " </div>\n",
       " </div>\n",
       "                  \n",
       "                                   \n",
       "                               \n",
       "                                \n",
       "               \n",
       "                                        \n",
       " \n",
       "             <div id=\"cx_7d16282009342b0871d43a5a62c8dda11b28cfef\"></div>\n",
       " <style type=\"text/css\">\n",
       "                     .reactions {\n",
       "                         background-color: #efefef;\n",
       "                         padding: 20px 15px;\n",
       "                     }\n",
       "                     .reactions h4 {\n",
       "                         font-size: 18px;\n",
       "                         font-weight: bold;\n",
       "                         margin-bottom: 20px;\n",
       "                     }\n",
       "                     .reactions__buttons {\n",
       "                         margin-bottom: 15px;\n",
       "                         display: table;\n",
       "                     }\n",
       "                     .reactions__button.selected, .reactions__button:hover, .reactions__button:focus, .reactions__button:active {\n",
       "                         background-color: #bb0000;\n",
       "                         color: #ffffff;\n",
       "                     }\n",
       "                     .reactions__button {\n",
       "                         color: #bb0000;\n",
       "                         border: 2px solid #bb0000;\n",
       "                         border-radius: 5px;\n",
       "                         padding: 7px 20px;\n",
       "                         display: inline-block;\n",
       "                         float: left;\n",
       "                         margin-right: 10px;\n",
       "                         font-weight: 600;\n",
       "                         cursor: pointer;\n",
       "                     }\n",
       "                     .selected {\n",
       "                         background: #666;\n",
       "                         color: #fff;\n",
       "                     }\n",
       "                     .reactions__button {\n",
       "                         color: #bb0000;\n",
       "                         border: 2px solid #bb0000;\n",
       "                         border-radius: 5px;\n",
       "                         padding: 7px 20px;\n",
       "                         display: inline-block;\n",
       "                         float: left;\n",
       "                         margin-right: 10px;\n",
       "                         font-weight: 600;\n",
       "                         cursor: pointer;\n",
       "                     }\n",
       "                     .reactions .reactions__desc {\n",
       "                         clear: both;\n",
       "                         color: #666666;\n",
       "                         font-size: 14px;\n",
       "                         line-height: 14px;\n",
       "                         margin-bottom: 0;\n",
       "                     }\n",
       "                     @media (max-width: 767px){\n",
       "                         .reactions__button {\n",
       "                             margin-bottom: 8px;\n",
       "                             font-size: 15px;\n",
       "                         }\n",
       "                     }\n",
       "                     .reactions__button.disabled {\n",
       "                         color: #bb0000;\n",
       "                         background-color: #efefef;\n",
       "                         cursor: default;\n",
       "                     }\n",
       "                     .reactions__button.selected.disabled {\n",
       "                         background-color: #bb0000;\n",
       "                         color: #ffffff;\n",
       "                         cursor: default;\n",
       "                     }\n",
       "                 </style>\n",
       " <div class=\"row bot-20\">\n",
       " <div class=\"col-sm-12\">\n",
       " <div class=\"reactions\">\n",
       " <h4>What do you think of this article?</h4>\n",
       " <div class=\"reactions__buttons\">\n",
       " <div class=\"reactions__button\" data-answer=\"1\" data-id=\"\">\n",
       "                                         It is insightful\n",
       "                                     </div>\n",
       " <div class=\"reactions__button\" data-answer=\"2\" data-id=\"\">\n",
       "                                         Not in my interest\n",
       "                                     </div>\n",
       " </div>\n",
       " <p class=\"reactions__desc\">\n",
       " <span id=\"reaction_perc\">0%</span>\n",
       " <span id=\"reaction_text\">readers found this article useful</span>\n",
       " </p>\n",
       " </div>\n",
       " </div>\n",
       " </div>\n",
       " <div id=\"cx_temp_7d16282009342b0871d43a5a62c8dda11b28cfef\" style=\"display: none;\"></div>\n",
       " <script type=\"text/javascript\">\n",
       "                 var cX = cX || {}; cX.callQueue = cX.callQueue || [];\n",
       "                 var cxwid = '7d16282009342b0871d43a5a62c8dda11b28cfef';\n",
       "                 cX.callQueue.push(['insertWidget',{\n",
       "                     widgetId: cxwid, renderFunction: function(data, context) {\n",
       "                         document.getElementById('cx_temp_'+context.widgetId).innerHTML = data.response.template;\n",
       "                         cX.renderTemplate('cx_temp_'+context.widgetId, 'cx_'+context.widgetId, data, context);\n",
       "                     }\n",
       "                 }]);\n",
       "             </script>\n",
       " <!--StarBiz Premium More Stories-->\n",
       " <script type=\"text/javascript\">\n",
       " (function ($) {\n",
       "     function GetCookieForLogin(loginCookieName) {\n",
       "         var theLoginCookieName = loginCookieName + \"=\";\n",
       "         var lcn = document.cookie.split(';');\n",
       "         for(var i=0; i<lcn.length; i++) {\n",
       "         var c1 = lcn[i];\n",
       "         while (c1.charAt(0)==' ') c1 = c1.substring(1);\n",
       "             if (c1.indexOf(theLoginCookieName) == 0) return c1.substring(theLoginCookieName.length,c1.length);\n",
       "         }\n",
       "         return \"\";\n",
       "     }\n",
       " \n",
       "     $(document).ready(function () {\n",
       " \n",
       "         if($(\".notice-wrap\").css(\"display\")==\"block\"){\n",
       "            dataLayer = [];\n",
       "            dataLayer.push({\n",
       "                     \"event\": \"paywall_show\",\n",
       "                     \"paywall_type\": \"login\"\n",
       "             })\n",
       "         }\n",
       "         \n",
       "         var showLock = true;\n",
       "         var loginCookieVal = GetCookieForLogin(\"pwu\");\n",
       "         if (loginCookieVal != undefined && loginCookieVal.length > 1) {\n",
       "             var patt = /(&eed=\\w+)/;\n",
       "             var result = patt.test(loginCookieVal);\n",
       "             if (result)\n",
       "             {showLock = false;}\n",
       "         }\n",
       "         var ct = $(\"meta[name=content_tier]\").attr(\"content\");\n",
       "         var ct_section = $('meta[name=article_section_name]').attr(\"content\");\n",
       "         if (!(ct === 'Premium' && ct_section === 'Business')) { $('#related-sbp-stories-div').hide(); } // show only when business and premium\n",
       "         else {\n",
       "             $.ajax({\n",
       "                 type: 'GET',\n",
       "                 url: 'https://cdn.thestar.com.my/Components/StarBizPremium/starBizPremium.json',\n",
       "                 jsonpCallback: 'starbizPremiumJsonCallback',\n",
       "                 contentType: \"application/json\",\n",
       "                 dataType: 'jsonp',\n",
       "                 success: function (jobj) {\n",
       "                     if (jobj.items && jobj.items.length === 0) { return; } // no need to continue processing below if jobj is empty\n",
       "                     var strBizPreHead = '<h1 class=\"left title-02\"><a href=\"/business/premium/\">More Stories</a></h1><hr>';\n",
       "                     $('#bizpremorestories').append(strBizPreHead);\n",
       "                     var skip = 0;\n",
       "                     var rowCounter = 0;\n",
       "                     var curTitle = $(\"meta[name=content_title]\").attr(\"content\");\n",
       "                     for (var x = 0; x < 4; x++) {\n",
       "                         if (rowCounter == 3) { break; }\n",
       "                         if (curTitle.indexOf(jobj.items[x].headline) !== -1) {\n",
       "                             skip = 1;\n",
       "                         } else {\n",
       "                             rowCounter++;\n",
       "                             var strBldr = '<div class=\"col-xs-12 col-sm-4 in-sec-story\">' +\n",
       "                                 '<div class=\"row\"><div class=\"col-xs-5 right col-sm-12\">' +\n",
       "                                 '<div class=\"img-sticker\">' +\n",
       "                                 '<a href=\"' + jobj.items[x].link + '\">' +\n",
       "                                 '<img data-thumb-img=\"' + jobj.items[x].image + '\" src=\"' + jobj.items[x].image + '\" alt=\"' + jobj.items[x].headline + '\"></a></div></div><div class=\"col-xs-7 left col-sm-12\">' +\n",
       "                                 '<a href=\"' + jobj.items[x].kickerurl + '\" class=\"kicker\">' + jobj.items[x].kickername + '</a>' +\n",
       "                                 '<span class=\"timestamp\">' + jobj.items[x].pubDate + '</span><span class=\"biz-icon\"><i class=\"fa ' + (showLock ? 'fa-lock' : 'fa-unlock') + '\"></i></span><h2>' +\n",
       "                                 '<a href=\"' + jobj.items[x].link + '\">' + jobj.items[x].headline + '</a></h2></div></div></div>';\n",
       "                             $('#related-sbp-stories-list').append(strBldr);\n",
       "                         }\n",
       "                     }\n",
       "                     rowCounter = 0;\n",
       "                     for (var x = 3+skip; x < 7+skip; x++) {\n",
       "                         if (rowCounter == 3) { break; }\n",
       "                         if (curTitle.indexOf(jobj.items[x].headline) !== -1) {\n",
       "                             continue;\n",
       "                         } else {\n",
       "                             rowCounter++;\n",
       "                             var strBldr2 = '<div class=\"col-xs-12 col-sm-4 in-sec-story\">' +\n",
       "                                 '<div class=\"row\"><div class=\"col-xs-5 right col-sm-12\">' +\n",
       "                                 '<div class=\"img-sticker\">' +\n",
       "                                 '<a href=\"' + jobj.items[x].link + '\">' +\n",
       "                                 '<img data-thumb-img=\"' + jobj.items[x].image + '\" src=\"' + jobj.items[x].image + '\" alt=\"' + jobj.items[x].headline + '\"></a></div></div><div class=\"col-xs-7 left col-sm-12\">' +\n",
       "                                 '<a href=\"' + jobj.items[x].kickerurl + '\" class=\"kicker\">' + jobj.items[x].kickername + '</a>' +\n",
       "                                 '<span class=\"timestamp\">' + jobj.items[x].pubDate + '</span><span class=\"biz-icon\"><i class=\"fa ' + (showLock ? 'fa-lock' : 'fa-unlock') + '\"></i></span><h2>' +\n",
       "                                 '<a href=\"' + jobj.items[x].link + '\">' + jobj.items[x].headline + '</a></h2></div></div></div>';\n",
       "                             $('#related-sbp-stories-list2').append(strBldr2);\n",
       "                         }\n",
       "                     }\n",
       "                 },\n",
       "                 error: function () {\n",
       "                     console.log(\"An error occur at StarBiz Premium More Stories component\");\n",
       "                 },\n",
       "                 timeout: 15000\n",
       "             });\n",
       "         }\n",
       "     });\n",
       " })(jQuery);\n",
       " </script>\n",
       " <div class=\"related-sect\" id=\"related-sbp-stories-div\" style=\"\">\n",
       " <div class=\"headline\" id=\"bizpremorestories\">\n",
       " </div>\n",
       " <div class=\"row\">\n",
       " <div class=\"story-set\" id=\"related-sbp-stories-list\">\n",
       " </div>\n",
       " </div>\n",
       " <div class=\"row\">\n",
       " <div class=\"story-set\" id=\"related-sbp-stories-list2\">\n",
       " </div>\n",
       " </div>\n",
       " </div>\n",
       " <!--/StarBiz Premium More Stories-->\n",
       " </article>\n",
       " </div>]"
      ]
     },
     "execution_count": 213,
     "metadata": {},
     "output_type": "execute_result"
    }
   ],
   "source": [
    "content"
   ]
  },
  {
   "cell_type": "code",
   "execution_count": 120,
   "metadata": {},
   "outputs": [
    {
     "ename": "NameError",
     "evalue": "name 'read_html' is not defined",
     "output_type": "error",
     "traceback": [
      "\u001b[0;31m---------------------------------------------------------------------------\u001b[0m",
      "\u001b[0;31mNameError\u001b[0m                                 Traceback (most recent call last)",
      "\u001b[0;32m<ipython-input-120-082edef44c02>\u001b[0m in \u001b[0;36m<module>\u001b[0;34m\u001b[0m\n\u001b[0;32m----> 1\u001b[0;31m \u001b[0mread_html\u001b[0m\u001b[0;34m(\u001b[0m\u001b[0mpage\u001b[0m\u001b[0;34m.\u001b[0m\u001b[0mtext\u001b[0m\u001b[0;34m)\u001b[0m\u001b[0;34m\u001b[0m\u001b[0;34m\u001b[0m\u001b[0m\n\u001b[0m",
      "\u001b[0;31mNameError\u001b[0m: name 'read_html' is not defined"
     ]
    }
   ],
   "source": [
    "read_html(page.text)"
   ]
  },
  {
   "cell_type": "code",
   "execution_count": 164,
   "metadata": {},
   "outputs": [
    {
     "ename": "AttributeError",
     "evalue": "'re.Pattern' object has no attribute 'timeout'",
     "output_type": "error",
     "traceback": [
      "\u001b[0;31m---------------------------------------------------------------------------\u001b[0m",
      "\u001b[0;31mAttributeError\u001b[0m                            Traceback (most recent call last)",
      "\u001b[0;32m<ipython-input-164-ed56a03db58f>\u001b[0m in \u001b[0;36m<module>\u001b[0;34m\u001b[0m\n\u001b[1;32m      5\u001b[0m \u001b[0;34m\u001b[0m\u001b[0m\n\u001b[1;32m      6\u001b[0m \u001b[0;34m\u001b[0m\u001b[0m\n\u001b[0;32m----> 7\u001b[0;31m \u001b[0mhtml\u001b[0m \u001b[0;34m=\u001b[0m \u001b[0murlopen\u001b[0m\u001b[0;34m(\u001b[0m\u001b[0mre\u001b[0m\u001b[0;34m.\u001b[0m\u001b[0mcompile\u001b[0m\u001b[0;34m(\u001b[0m\u001b[0;34m\"https://www.zwdu.com/book/25435/.+.html\"\u001b[0m\u001b[0;34m)\u001b[0m\u001b[0;34m)\u001b[0m\u001b[0;34m.\u001b[0m\u001b[0mread\u001b[0m\u001b[0;34m(\u001b[0m\u001b[0;34m)\u001b[0m\u001b[0;34m.\u001b[0m\u001b[0mdecode\u001b[0m\u001b[0;34m(\u001b[0m\u001b[0;34m'gb2312'\u001b[0m\u001b[0;34m)\u001b[0m\u001b[0;34m\u001b[0m\u001b[0;34m\u001b[0m\u001b[0m\n\u001b[0m",
      "\u001b[0;32m~/anaconda3/lib/python3.7/urllib/request.py\u001b[0m in \u001b[0;36murlopen\u001b[0;34m(url, data, timeout, cafile, capath, cadefault, context)\u001b[0m\n\u001b[1;32m    220\u001b[0m     \u001b[0;32melse\u001b[0m\u001b[0;34m:\u001b[0m\u001b[0;34m\u001b[0m\u001b[0;34m\u001b[0m\u001b[0m\n\u001b[1;32m    221\u001b[0m         \u001b[0mopener\u001b[0m \u001b[0;34m=\u001b[0m \u001b[0m_opener\u001b[0m\u001b[0;34m\u001b[0m\u001b[0;34m\u001b[0m\u001b[0m\n\u001b[0;32m--> 222\u001b[0;31m     \u001b[0;32mreturn\u001b[0m \u001b[0mopener\u001b[0m\u001b[0;34m.\u001b[0m\u001b[0mopen\u001b[0m\u001b[0;34m(\u001b[0m\u001b[0murl\u001b[0m\u001b[0;34m,\u001b[0m \u001b[0mdata\u001b[0m\u001b[0;34m,\u001b[0m \u001b[0mtimeout\u001b[0m\u001b[0;34m)\u001b[0m\u001b[0;34m\u001b[0m\u001b[0;34m\u001b[0m\u001b[0m\n\u001b[0m\u001b[1;32m    223\u001b[0m \u001b[0;34m\u001b[0m\u001b[0m\n\u001b[1;32m    224\u001b[0m \u001b[0;32mdef\u001b[0m \u001b[0minstall_opener\u001b[0m\u001b[0;34m(\u001b[0m\u001b[0mopener\u001b[0m\u001b[0;34m)\u001b[0m\u001b[0;34m:\u001b[0m\u001b[0;34m\u001b[0m\u001b[0;34m\u001b[0m\u001b[0m\n",
      "\u001b[0;32m~/anaconda3/lib/python3.7/urllib/request.py\u001b[0m in \u001b[0;36mopen\u001b[0;34m(self, fullurl, data, timeout)\u001b[0m\n\u001b[1;32m    514\u001b[0m                 \u001b[0mreq\u001b[0m\u001b[0;34m.\u001b[0m\u001b[0mdata\u001b[0m \u001b[0;34m=\u001b[0m \u001b[0mdata\u001b[0m\u001b[0;34m\u001b[0m\u001b[0;34m\u001b[0m\u001b[0m\n\u001b[1;32m    515\u001b[0m \u001b[0;34m\u001b[0m\u001b[0m\n\u001b[0;32m--> 516\u001b[0;31m         \u001b[0mreq\u001b[0m\u001b[0;34m.\u001b[0m\u001b[0mtimeout\u001b[0m \u001b[0;34m=\u001b[0m \u001b[0mtimeout\u001b[0m\u001b[0;34m\u001b[0m\u001b[0;34m\u001b[0m\u001b[0m\n\u001b[0m\u001b[1;32m    517\u001b[0m         \u001b[0mprotocol\u001b[0m \u001b[0;34m=\u001b[0m \u001b[0mreq\u001b[0m\u001b[0;34m.\u001b[0m\u001b[0mtype\u001b[0m\u001b[0;34m\u001b[0m\u001b[0;34m\u001b[0m\u001b[0m\n\u001b[1;32m    518\u001b[0m \u001b[0;34m\u001b[0m\u001b[0m\n",
      "\u001b[0;31mAttributeError\u001b[0m: 're.Pattern' object has no attribute 'timeout'"
     ]
    }
   ],
   "source": [
    "#正则表达式\n",
    "from bs4 import BeautifulSoup\n",
    "from urllib.request import urlopen\n",
    "import re\n",
    "\n",
    "\n",
    "html = urlopen(\"https://www.zwdu.com/book/25435/7774879.html\").read().decode('gb2312')"
   ]
  },
  {
   "cell_type": "code",
   "execution_count": null,
   "metadata": {},
   "outputs": [],
   "source": [
    "soup = BeautifulSoup(html,'lxml')"
   ]
  },
  {
   "cell_type": "code",
   "execution_count": null,
   "metadata": {},
   "outputs": [],
   "source": [
    "content = soup.find_all('div',{'id':'content'})"
   ]
  },
  {
   "cell_type": "code",
   "execution_count": 162,
   "metadata": {},
   "outputs": [
    {
     "data": {
      "text/plain": [
       "1"
      ]
     },
     "execution_count": 162,
     "metadata": {},
     "output_type": "execute_result"
    }
   ],
   "source": [
    "len(content)"
   ]
  },
  {
   "cell_type": "code",
   "execution_count": 161,
   "metadata": {},
   "outputs": [
    {
     "data": {
      "text/plain": [
       "'“没想到，我聂天居然重生了！”房间之中，聂天身躯剧烈颤抖，眼神之中充斥着压抑的愤怒。八一中文\\xa0Ｗ≤Ｗ≈Ｗ＝．≈８≠１≥Ｚ≥Ｗ≈．≤Ｃ≥ＯＭ他的心中，惊涛骇浪，过往种种在脑海之中飞驰而过。聂天本是天界第一战神，晨昏神域大半疆域都是他一手打下。赫赫威名，震慑神域！为了封赏他的绝世战功，晨昏大帝将掌上明珠紫烟公主许配于他。洛紫烟，晨昏神域第一美女，风采绝世，倾国倾城。配上聂天这天界第一战神，堪称天造地设。但聂天怎么也想不到，洛紫烟竟会在洞房之夜对他出手。堂堂天界第一战神，竟死在未婚妻的手上，还死在了洞房之夜，真是天大的笑话！“她为何杀我？难道传言是真的？晨昏大帝将洛紫烟许配于我，本来就是一个阴谋，就是为了要杀我。”聂天眼神凌冽，心中惊涛骇浪。功高震主，历来都是臣子大忌。聂天声望在晨昏神域，远胜晨昏大帝，后者想杀他，亦在情理之中。“好一个晨昏大帝，好一个洛紫烟，你们父女好狠的心！我聂天为晨昏神域打下大片疆土，更视洛紫烟为毕生挚爱，没想到最后竟死在你们父女手上。”聂天双目赤红，全身颤抖。良久，聂天稍稍镇定，眼中闪现一抹精芒，突然狂笑一声：“也罢！既然上苍让我聂天重生一回，我聂天再不做别人的殿下之臣。”“这一世，我要创造我的世界！”“这一世，我要成为万古天帝！”“这一世，我要主宰天界神域！”豪言壮语，振聋聩，聂天整个人锋芒毕露，好似一把出鞘利剑！重生一次，聂天信心满满，但当他看到自己的这副身躯，却是苦笑一声，自嘲道：“现在的这副身体，实在弱了一些。”死在洛紫烟手中，聂天再次醒来，已是百年之后。他的灵魂重生在已经病死的少年身上。巧合的是，这个少年也叫聂天。此时的聂天，乃是墨阳城三大家族之一聂家的家主。但是他这个家主，在家族之中却连一个体面的下人都不如。就连他死在房间，都没人知道。究其原因，就是因为他是一个元脉尽毁的废人。三年前，聂天还是墨阳城第一天才，年仅十三岁，实力达到元脉九重，堪称妖孽。但是三年前的一天，聂天和父亲及多位族人进入裂云山脉，进行历练，却遭遇一群黑衣人的伏击，结果父亲和族人全部被杀，只有聂天一人拼死逃出，但却元脉尽毁，成了废人。父亲死后，他继任家主。但是在所有人眼中，他这个家主，屁都不是。元脉尽毁，聂天开始自暴自弃，自甘堕落，每天借酒消愁，流连风月之地。就在昨天，他被墨阳城三大家族之一巴家的大少爷巴子阳，打得重伤昏死。抬回聂府之后，今天早上就咽气了。这也就给了战神聂天附身的机会。“元脉尽毁吗？”聂天稍稍镇定，开始检查自己的新身体。“毒！”聂天内视元脉，惊愕现，他的元脉除了损伤严重之外，竟然还呈现污黑之色。“我是被毒死的！”聂天脑海之中出现一张面孔，聂家大执事，聂三通。在聂天受伤期间，只有聂三通看过他，给他服下了一枚“恢复伤势”的固元丹。“好一个聂三通，定是觊觎家主之位，谋害于我。”聂天马上明白了，双瞳之中浮现一抹森然寒光。“嗯？”聂天继续内视身体，脸色唰地一变，惊骇道：“星辰原石！居然跟着我一起重生了！”“家主，大事不好了！”就在这个时候，一道身影夺门而入，惊慌大叫。“阿牛，生什么事了？”聂天看着来人，淡淡问道。阿牛，聂天的仆从，也是整个聂家唯一一个把他当家主的人。“家主，巴，巴家的人来逼婚了！”喘着粗气，阿牛着急说道。“巴家！”聂天微微皱眉，想起自己就是被巴家大少爷巴子阳打伤，脸色顿时变得阴沉起来。巴家，和聂家一样，墨阳城三大家族之一。不过自从三年前聂天父亲死后，聂家的声望一天不如一天，到了今日，已经是大厦将倾。正因为这样，巴家大少爷巴子阳才敢把聂天这个巴家家主打得重伤昏死。“阿牛，你不要着急，逼婚到底是怎么回事？”聂天并不慌张，反倒玩味一笑。阿牛愣了一下，一脸古怪地看着聂天。这还是家主吗？怎么这么镇定？阿牛隐隐感觉聂天变了，和以前不一样了，却又说不出哪里不一样。“快说啊。”聂天见阿牛愣，催促一声。“哎！是！”阿牛反应过来，赶紧说道：“巴家的管家带着巴家大少年和三少爷来我们府上提亲了，而且是向最有天赋的九小姐提亲。”“九妹！”聂天脑海中浮现一张粉雕玉琢，乖巧可爱的脸蛋。聂家是大家族，人口多，同辈之间，直接按年龄排序。九妹，就是聂家年轻一代年龄第九的女孩。“九妹好像叫聂雨柔吧。”聂天记得，上次见九妹，还是在三年之前，那时的聂雨柔还是一个六岁的小姑娘。现在想来，也该有九岁了。“九岁？！”聂天惊叫一声。谁会向一个九岁的小女孩提亲？“巴家给谁提亲？”聂天脸色一沉，眼神闪过一抹狠辣。向一个九岁的小孩提亲，巴家的人简直丧心病狂。先是打伤聂天，然后又上门逼婚，巴家的人真是嚣张到姥姥家了。“巴家三少爷巴子星。”阿牛回答。“巴子星！”聂天脸色更加阴沉，沉声道：“如果我没记错，巴子星是个傻子吧。”“嗯。”阿牛看着聂天，咽了一下口水，重重点头。聂天确实没有记错，巴子星的确是一个傻子，而且还是他亲手打傻的。三年前的聂天，风头正劲，墨阳城武会之上，巴子星不服气，向他挑战，结果被打成了傻子。为此事，聂家和巴家差一点血拼。现在，巴家居然替巴子星向聂雨柔提亲，明显是欺负聂家势弱，想要报以前的耻辱。聂雨柔是聂家新一代天才，刚刚九岁，已经是元脉四重，天赋直追当年的聂天。若是聂雨柔嫁给了巴子星，聂家绝对会沦为墨阳城的笑柄，而且还将失去一位少年天才。“不行！绝对不能让这种事情生！”聂天一脸肃杀，低吼道：“带路，我要去议事大堂！”“在我的头上拉屎，还管我要纸。巴家，今天我要让你们把自己拉的屎，吃回去！”聂天心中，霸道怒吼。'"
      ]
     },
     "execution_count": 161,
     "metadata": {},
     "output_type": "execute_result"
    }
   ],
   "source": [
    "content[0].get_text().replace('\\xa0\\xa0\\xa0\\xa0','').strip()"
   ]
  },
  {
   "cell_type": "code",
   "execution_count": 171,
   "metadata": {},
   "outputs": [
    {
     "name": "stdout",
     "output_type": "stream",
     "text": [
      "http://www.baidu.com/s?wd=%E8%8E%AB%E7%83%A6python\n"
     ]
    }
   ],
   "source": [
    "import requests\n",
    "import webbrowser\n",
    "param = {'wd':'莫烦python'}\n",
    "url = 'http://www.baidu.com/s'\n",
    "r = requests.get(url,params=param)\n",
    "print(r.url)\n"
   ]
  },
  {
   "cell_type": "code",
   "execution_count": 173,
   "metadata": {},
   "outputs": [
    {
     "data": {
      "text/plain": [
       "True"
      ]
     },
     "execution_count": 173,
     "metadata": {},
     "output_type": "execute_result"
    }
   ],
   "source": [
    "webbrowser.open(r.url)"
   ]
  },
  {
   "cell_type": "code",
   "execution_count": null,
   "metadata": {},
   "outputs": [],
   "source": []
  },
  {
   "cell_type": "code",
   "execution_count": 178,
   "metadata": {},
   "outputs": [
    {
     "name": "stdout",
     "output_type": "stream",
     "text": [
      "Hello there, sdf sdf!\n"
     ]
    }
   ],
   "source": [
    "data = {'firstname':'sdf','lastname':'sdf'}\n",
    "r = requests.post('http://pythonscraping.com/pages/files/processing.php',data=data)\n",
    "print(r.text)"
   ]
  },
  {
   "cell_type": "code",
   "execution_count": 240,
   "metadata": {},
   "outputs": [],
   "source": [
    "import selenium\n",
    "from selenium import webdriver\n",
    "driver = webdriver.Chrome(executable_path='/Users/liuhongyang/Desktop/chromedriver')\n",
    "\n",
    "\n",
    "driver.get(\"https://www.thestar.com.my/business/marketwatch/\")\n",
    "driver.find_element_by_xpath(\"//button[@id='buttonsearch']/a/i\").click()\n",
    "driver.find_element_by_id(\"qTextBox\").clear()\n",
    "driver.find_element_by_id(\"qTextBox\").send_keys(\"oil price\")\n",
    "driver.find_element_by_id(\"myform\").submit()\n",
    "\n",
    "html = driver.page_source\n",
    "soup = BeautifulSoup(html,'html.parser')\n",
    "content = soup.find_all('div',{'class':'container'})\n"
   ]
  },
  {
   "cell_type": "code",
   "execution_count": 226,
   "metadata": {},
   "outputs": [],
   "source": [
    "soup = BeautifulSoup(html,'html.parser')"
   ]
  },
  {
   "cell_type": "code",
   "execution_count": 236,
   "metadata": {},
   "outputs": [],
   "source": [
    "content = soup.find_all('div',{'class':'container'})"
   ]
  },
  {
   "cell_type": "code",
   "execution_count": 237,
   "metadata": {},
   "outputs": [
    {
     "data": {
      "text/plain": [
       "[]"
      ]
     },
     "execution_count": 237,
     "metadata": {},
     "output_type": "execute_result"
    }
   ],
   "source": [
    "content"
   ]
  },
  {
   "cell_type": "code",
   "execution_count": null,
   "metadata": {},
   "outputs": [],
   "source": [
    "import selenium\n",
    "from selenium import webdriver\n",
    "driver.get(\"http://www.python.org\")"
   ]
  },
  {
   "cell_type": "code",
   "execution_count": 241,
   "metadata": {},
   "outputs": [
    {
     "name": "stdout",
     "output_type": "stream",
     "text": [
      "a\n"
     ]
    }
   ],
   "source": [
    "print('a')"
   ]
  },
  {
   "cell_type": "code",
   "execution_count": 248,
   "metadata": {},
   "outputs": [],
   "source": [
    "import pandas as pd\n",
    "from bs4 import BeautifulSoup\n",
    "import requests\n",
    "url='https://www.indexmundi.com/commodities/?commodity=crude-oil&months=60'\n",
    "\n",
    "r = requests.get(url)\n",
    "\n",
    "\n",
    "\n",
    "df = pd.read_html(r.text)\n"
   ]
  },
  {
   "cell_type": "code",
   "execution_count": 251,
   "metadata": {},
   "outputs": [
    {
     "data": {
      "text/html": [
       "<div>\n",
       "<style scoped>\n",
       "    .dataframe tbody tr th:only-of-type {\n",
       "        vertical-align: middle;\n",
       "    }\n",
       "\n",
       "    .dataframe tbody tr th {\n",
       "        vertical-align: top;\n",
       "    }\n",
       "\n",
       "    .dataframe thead th {\n",
       "        text-align: right;\n",
       "    }\n",
       "</style>\n",
       "<table border=\"1\" class=\"dataframe\">\n",
       "  <thead>\n",
       "    <tr style=\"text-align: right;\">\n",
       "      <th></th>\n",
       "      <th>Month</th>\n",
       "      <th>Price</th>\n",
       "      <th>Change</th>\n",
       "    </tr>\n",
       "  </thead>\n",
       "  <tbody>\n",
       "    <tr>\n",
       "      <th>0</th>\n",
       "      <td>Feb 2015</td>\n",
       "      <td>54.79</td>\n",
       "      <td>-</td>\n",
       "    </tr>\n",
       "    <tr>\n",
       "      <th>1</th>\n",
       "      <td>Mar 2015</td>\n",
       "      <td>52.83</td>\n",
       "      <td>-3.58 %</td>\n",
       "    </tr>\n",
       "    <tr>\n",
       "      <th>2</th>\n",
       "      <td>Apr 2015</td>\n",
       "      <td>57.54</td>\n",
       "      <td>8.92 %</td>\n",
       "    </tr>\n",
       "    <tr>\n",
       "      <th>3</th>\n",
       "      <td>May 2015</td>\n",
       "      <td>62.51</td>\n",
       "      <td>8.63 %</td>\n",
       "    </tr>\n",
       "    <tr>\n",
       "      <th>4</th>\n",
       "      <td>Jun 2015</td>\n",
       "      <td>61.31</td>\n",
       "      <td>-1.92 %</td>\n",
       "    </tr>\n",
       "    <tr>\n",
       "      <th>5</th>\n",
       "      <td>Jul 2015</td>\n",
       "      <td>54.34</td>\n",
       "      <td>-11.37 %</td>\n",
       "    </tr>\n",
       "    <tr>\n",
       "      <th>6</th>\n",
       "      <td>Aug 2015</td>\n",
       "      <td>45.69</td>\n",
       "      <td>-15.92 %</td>\n",
       "    </tr>\n",
       "    <tr>\n",
       "      <th>7</th>\n",
       "      <td>Sep 2015</td>\n",
       "      <td>46.28</td>\n",
       "      <td>1.29 %</td>\n",
       "    </tr>\n",
       "    <tr>\n",
       "      <th>8</th>\n",
       "      <td>Oct 2015</td>\n",
       "      <td>46.96</td>\n",
       "      <td>1.47 %</td>\n",
       "    </tr>\n",
       "    <tr>\n",
       "      <th>9</th>\n",
       "      <td>Nov 2015</td>\n",
       "      <td>43.11</td>\n",
       "      <td>-8.20 %</td>\n",
       "    </tr>\n",
       "    <tr>\n",
       "      <th>10</th>\n",
       "      <td>Dec 2015</td>\n",
       "      <td>36.57</td>\n",
       "      <td>-15.17 %</td>\n",
       "    </tr>\n",
       "    <tr>\n",
       "      <th>11</th>\n",
       "      <td>Jan 2016</td>\n",
       "      <td>29.78</td>\n",
       "      <td>-18.57 %</td>\n",
       "    </tr>\n",
       "    <tr>\n",
       "      <th>12</th>\n",
       "      <td>Feb 2016</td>\n",
       "      <td>31.03</td>\n",
       "      <td>4.20 %</td>\n",
       "    </tr>\n",
       "    <tr>\n",
       "      <th>13</th>\n",
       "      <td>Mar 2016</td>\n",
       "      <td>37.34</td>\n",
       "      <td>20.34 %</td>\n",
       "    </tr>\n",
       "    <tr>\n",
       "      <th>14</th>\n",
       "      <td>Apr 2016</td>\n",
       "      <td>40.75</td>\n",
       "      <td>9.13 %</td>\n",
       "    </tr>\n",
       "    <tr>\n",
       "      <th>15</th>\n",
       "      <td>May 2016</td>\n",
       "      <td>45.94</td>\n",
       "      <td>12.74 %</td>\n",
       "    </tr>\n",
       "    <tr>\n",
       "      <th>16</th>\n",
       "      <td>Jun 2016</td>\n",
       "      <td>47.69</td>\n",
       "      <td>3.81 %</td>\n",
       "    </tr>\n",
       "    <tr>\n",
       "      <th>17</th>\n",
       "      <td>Jul 2016</td>\n",
       "      <td>44.13</td>\n",
       "      <td>-7.46 %</td>\n",
       "    </tr>\n",
       "    <tr>\n",
       "      <th>18</th>\n",
       "      <td>Aug 2016</td>\n",
       "      <td>44.88</td>\n",
       "      <td>1.70 %</td>\n",
       "    </tr>\n",
       "    <tr>\n",
       "      <th>19</th>\n",
       "      <td>Sep 2016</td>\n",
       "      <td>45.04</td>\n",
       "      <td>0.36 %</td>\n",
       "    </tr>\n",
       "    <tr>\n",
       "      <th>20</th>\n",
       "      <td>Oct 2016</td>\n",
       "      <td>49.29</td>\n",
       "      <td>9.44 %</td>\n",
       "    </tr>\n",
       "    <tr>\n",
       "      <th>21</th>\n",
       "      <td>Nov 2016</td>\n",
       "      <td>45.26</td>\n",
       "      <td>-8.18 %</td>\n",
       "    </tr>\n",
       "    <tr>\n",
       "      <th>22</th>\n",
       "      <td>Dec 2016</td>\n",
       "      <td>52.62</td>\n",
       "      <td>16.26 %</td>\n",
       "    </tr>\n",
       "    <tr>\n",
       "      <th>23</th>\n",
       "      <td>Jan 2017</td>\n",
       "      <td>53.59</td>\n",
       "      <td>1.84 %</td>\n",
       "    </tr>\n",
       "    <tr>\n",
       "      <th>24</th>\n",
       "      <td>Feb 2017</td>\n",
       "      <td>54.35</td>\n",
       "      <td>1.42 %</td>\n",
       "    </tr>\n",
       "    <tr>\n",
       "      <th>25</th>\n",
       "      <td>Mar 2017</td>\n",
       "      <td>50.90</td>\n",
       "      <td>-6.35 %</td>\n",
       "    </tr>\n",
       "    <tr>\n",
       "      <th>26</th>\n",
       "      <td>Apr 2017</td>\n",
       "      <td>52.16</td>\n",
       "      <td>2.48 %</td>\n",
       "    </tr>\n",
       "    <tr>\n",
       "      <th>27</th>\n",
       "      <td>May 2017</td>\n",
       "      <td>49.89</td>\n",
       "      <td>-4.35 %</td>\n",
       "    </tr>\n",
       "    <tr>\n",
       "      <th>28</th>\n",
       "      <td>Jun 2017</td>\n",
       "      <td>46.17</td>\n",
       "      <td>-7.46 %</td>\n",
       "    </tr>\n",
       "    <tr>\n",
       "      <th>29</th>\n",
       "      <td>Jul 2017</td>\n",
       "      <td>47.66</td>\n",
       "      <td>3.23 %</td>\n",
       "    </tr>\n",
       "    <tr>\n",
       "      <th>30</th>\n",
       "      <td>Aug 2017</td>\n",
       "      <td>49.94</td>\n",
       "      <td>4.78 %</td>\n",
       "    </tr>\n",
       "    <tr>\n",
       "      <th>31</th>\n",
       "      <td>Sep 2017</td>\n",
       "      <td>52.95</td>\n",
       "      <td>6.03 %</td>\n",
       "    </tr>\n",
       "    <tr>\n",
       "      <th>32</th>\n",
       "      <td>Oct 2017</td>\n",
       "      <td>54.92</td>\n",
       "      <td>3.72 %</td>\n",
       "    </tr>\n",
       "    <tr>\n",
       "      <th>33</th>\n",
       "      <td>Nov 2017</td>\n",
       "      <td>59.93</td>\n",
       "      <td>9.12 %</td>\n",
       "    </tr>\n",
       "    <tr>\n",
       "      <th>34</th>\n",
       "      <td>Dec 2017</td>\n",
       "      <td>61.19</td>\n",
       "      <td>2.10 %</td>\n",
       "    </tr>\n",
       "    <tr>\n",
       "      <th>35</th>\n",
       "      <td>Jan 2018</td>\n",
       "      <td>66.23</td>\n",
       "      <td>8.24 %</td>\n",
       "    </tr>\n",
       "    <tr>\n",
       "      <th>36</th>\n",
       "      <td>Feb 2018</td>\n",
       "      <td>63.46</td>\n",
       "      <td>-4.18 %</td>\n",
       "    </tr>\n",
       "    <tr>\n",
       "      <th>37</th>\n",
       "      <td>Mar 2018</td>\n",
       "      <td>64.17</td>\n",
       "      <td>1.12 %</td>\n",
       "    </tr>\n",
       "    <tr>\n",
       "      <th>38</th>\n",
       "      <td>Apr 2018</td>\n",
       "      <td>68.79</td>\n",
       "      <td>7.20 %</td>\n",
       "    </tr>\n",
       "    <tr>\n",
       "      <th>39</th>\n",
       "      <td>May 2018</td>\n",
       "      <td>73.43</td>\n",
       "      <td>6.75 %</td>\n",
       "    </tr>\n",
       "    <tr>\n",
       "      <th>40</th>\n",
       "      <td>Jun 2018</td>\n",
       "      <td>71.98</td>\n",
       "      <td>-1.97 %</td>\n",
       "    </tr>\n",
       "    <tr>\n",
       "      <th>41</th>\n",
       "      <td>Jul 2018</td>\n",
       "      <td>72.67</td>\n",
       "      <td>0.96 %</td>\n",
       "    </tr>\n",
       "    <tr>\n",
       "      <th>42</th>\n",
       "      <td>Aug 2018</td>\n",
       "      <td>71.08</td>\n",
       "      <td>-2.19 %</td>\n",
       "    </tr>\n",
       "    <tr>\n",
       "      <th>43</th>\n",
       "      <td>Sep 2018</td>\n",
       "      <td>75.36</td>\n",
       "      <td>6.02 %</td>\n",
       "    </tr>\n",
       "    <tr>\n",
       "      <th>44</th>\n",
       "      <td>Oct 2018</td>\n",
       "      <td>76.73</td>\n",
       "      <td>1.82 %</td>\n",
       "    </tr>\n",
       "    <tr>\n",
       "      <th>45</th>\n",
       "      <td>Nov 2018</td>\n",
       "      <td>62.32</td>\n",
       "      <td>-18.78 %</td>\n",
       "    </tr>\n",
       "    <tr>\n",
       "      <th>46</th>\n",
       "      <td>Dec 2018</td>\n",
       "      <td>53.96</td>\n",
       "      <td>-13.41 %</td>\n",
       "    </tr>\n",
       "    <tr>\n",
       "      <th>47</th>\n",
       "      <td>Jan 2019</td>\n",
       "      <td>56.58</td>\n",
       "      <td>4.86 %</td>\n",
       "    </tr>\n",
       "    <tr>\n",
       "      <th>48</th>\n",
       "      <td>Feb 2019</td>\n",
       "      <td>61.13</td>\n",
       "      <td>8.04 %</td>\n",
       "    </tr>\n",
       "    <tr>\n",
       "      <th>49</th>\n",
       "      <td>Mar 2019</td>\n",
       "      <td>63.79</td>\n",
       "      <td>4.35 %</td>\n",
       "    </tr>\n",
       "    <tr>\n",
       "      <th>50</th>\n",
       "      <td>Apr 2019</td>\n",
       "      <td>68.58</td>\n",
       "      <td>7.51 %</td>\n",
       "    </tr>\n",
       "    <tr>\n",
       "      <th>51</th>\n",
       "      <td>May 2019</td>\n",
       "      <td>66.83</td>\n",
       "      <td>-2.55 %</td>\n",
       "    </tr>\n",
       "    <tr>\n",
       "      <th>52</th>\n",
       "      <td>Jun 2019</td>\n",
       "      <td>59.76</td>\n",
       "      <td>-10.58 %</td>\n",
       "    </tr>\n",
       "    <tr>\n",
       "      <th>53</th>\n",
       "      <td>Jul 2019</td>\n",
       "      <td>61.48</td>\n",
       "      <td>2.88 %</td>\n",
       "    </tr>\n",
       "    <tr>\n",
       "      <th>54</th>\n",
       "      <td>Aug 2019</td>\n",
       "      <td>57.67</td>\n",
       "      <td>-6.20 %</td>\n",
       "    </tr>\n",
       "    <tr>\n",
       "      <th>55</th>\n",
       "      <td>Sep 2019</td>\n",
       "      <td>60.04</td>\n",
       "      <td>4.11 %</td>\n",
       "    </tr>\n",
       "    <tr>\n",
       "      <th>56</th>\n",
       "      <td>Oct 2019</td>\n",
       "      <td>57.27</td>\n",
       "      <td>-4.61 %</td>\n",
       "    </tr>\n",
       "    <tr>\n",
       "      <th>57</th>\n",
       "      <td>Nov 2019</td>\n",
       "      <td>60.40</td>\n",
       "      <td>5.47 %</td>\n",
       "    </tr>\n",
       "    <tr>\n",
       "      <th>58</th>\n",
       "      <td>Dec 2019</td>\n",
       "      <td>63.35</td>\n",
       "      <td>4.88 %</td>\n",
       "    </tr>\n",
       "    <tr>\n",
       "      <th>59</th>\n",
       "      <td>Jan 2020</td>\n",
       "      <td>61.63</td>\n",
       "      <td>-2.72 %</td>\n",
       "    </tr>\n",
       "  </tbody>\n",
       "</table>\n",
       "</div>"
      ],
      "text/plain": [
       "       Month  Price    Change\n",
       "0   Feb 2015  54.79         -\n",
       "1   Mar 2015  52.83   -3.58 %\n",
       "2   Apr 2015  57.54    8.92 %\n",
       "3   May 2015  62.51    8.63 %\n",
       "4   Jun 2015  61.31   -1.92 %\n",
       "5   Jul 2015  54.34  -11.37 %\n",
       "6   Aug 2015  45.69  -15.92 %\n",
       "7   Sep 2015  46.28    1.29 %\n",
       "8   Oct 2015  46.96    1.47 %\n",
       "9   Nov 2015  43.11   -8.20 %\n",
       "10  Dec 2015  36.57  -15.17 %\n",
       "11  Jan 2016  29.78  -18.57 %\n",
       "12  Feb 2016  31.03    4.20 %\n",
       "13  Mar 2016  37.34   20.34 %\n",
       "14  Apr 2016  40.75    9.13 %\n",
       "15  May 2016  45.94   12.74 %\n",
       "16  Jun 2016  47.69    3.81 %\n",
       "17  Jul 2016  44.13   -7.46 %\n",
       "18  Aug 2016  44.88    1.70 %\n",
       "19  Sep 2016  45.04    0.36 %\n",
       "20  Oct 2016  49.29    9.44 %\n",
       "21  Nov 2016  45.26   -8.18 %\n",
       "22  Dec 2016  52.62   16.26 %\n",
       "23  Jan 2017  53.59    1.84 %\n",
       "24  Feb 2017  54.35    1.42 %\n",
       "25  Mar 2017  50.90   -6.35 %\n",
       "26  Apr 2017  52.16    2.48 %\n",
       "27  May 2017  49.89   -4.35 %\n",
       "28  Jun 2017  46.17   -7.46 %\n",
       "29  Jul 2017  47.66    3.23 %\n",
       "30  Aug 2017  49.94    4.78 %\n",
       "31  Sep 2017  52.95    6.03 %\n",
       "32  Oct 2017  54.92    3.72 %\n",
       "33  Nov 2017  59.93    9.12 %\n",
       "34  Dec 2017  61.19    2.10 %\n",
       "35  Jan 2018  66.23    8.24 %\n",
       "36  Feb 2018  63.46   -4.18 %\n",
       "37  Mar 2018  64.17    1.12 %\n",
       "38  Apr 2018  68.79    7.20 %\n",
       "39  May 2018  73.43    6.75 %\n",
       "40  Jun 2018  71.98   -1.97 %\n",
       "41  Jul 2018  72.67    0.96 %\n",
       "42  Aug 2018  71.08   -2.19 %\n",
       "43  Sep 2018  75.36    6.02 %\n",
       "44  Oct 2018  76.73    1.82 %\n",
       "45  Nov 2018  62.32  -18.78 %\n",
       "46  Dec 2018  53.96  -13.41 %\n",
       "47  Jan 2019  56.58    4.86 %\n",
       "48  Feb 2019  61.13    8.04 %\n",
       "49  Mar 2019  63.79    4.35 %\n",
       "50  Apr 2019  68.58    7.51 %\n",
       "51  May 2019  66.83   -2.55 %\n",
       "52  Jun 2019  59.76  -10.58 %\n",
       "53  Jul 2019  61.48    2.88 %\n",
       "54  Aug 2019  57.67   -6.20 %\n",
       "55  Sep 2019  60.04    4.11 %\n",
       "56  Oct 2019  57.27   -4.61 %\n",
       "57  Nov 2019  60.40    5.47 %\n",
       "58  Dec 2019  63.35    4.88 %\n",
       "59  Jan 2020  61.63   -2.72 %"
      ]
     },
     "execution_count": 251,
     "metadata": {},
     "output_type": "execute_result"
    }
   ],
   "source": [
    "df[1]"
   ]
  },
  {
   "cell_type": "code",
   "execution_count": 342,
   "metadata": {},
   "outputs": [],
   "source": [
    "import pandas as pd\n",
    "from bs4 import BeautifulSoup\n",
    "import requests\n",
    "\n",
    "url='https://bj.lianjia.com/ershoufang/'\n",
    "\n",
    "\n",
    "r = requests.get(url)\n"
   ]
  },
  {
   "cell_type": "code",
   "execution_count": 355,
   "metadata": {},
   "outputs": [],
   "source": [
    "soup = BeautifulSoup(r.text,'html.parser')\n"
   ]
  },
  {
   "cell_type": "code",
   "execution_count": 366,
   "metadata": {},
   "outputs": [],
   "source": [
    "content = soup.find('ul',{'class':'sellListContent'})\n",
    "content2 = soup.select(\"div>ul>li>div\")"
   ]
  },
  {
   "cell_type": "code",
   "execution_count": 367,
   "metadata": {},
   "outputs": [
    {
     "data": {
      "text/plain": [
       "[<div class=\"childList\"><a href=\"https://bj.lianjia.com/wenda/\">问答</a><a href=\"https://news.lianjia.com/bj/baike/\">百科</a></div>]"
      ]
     },
     "execution_count": 367,
     "metadata": {},
     "output_type": "execute_result"
    }
   ],
   "source": [
    "content2"
   ]
  },
  {
   "cell_type": "code",
   "execution_count": 392,
   "metadata": {},
   "outputs": [
    {
     "name": "stdout",
     "output_type": "stream",
     "text": [
      "-------\n",
      "\n",
      "宋家庄家园    -  刘家窑 \n",
      "*******\n",
      "3室1厅 | 89.24平米 | 西北 | 简装 | 高楼层(共29层) | 2011年建 | 塔楼\n",
      "*******\n",
      "383人关注 / 2个月以前发布\n",
      "*******\n",
      "近地铁VR看装修房本满五年\n",
      "*******\n",
      "460万单价51547元/平米\n",
      "*******\n",
      "-------\n",
      "\n",
      "易构空间    -  大望路 \n",
      "*******\n",
      "2室1厅 | 86.88平米 | 南 | 精装 | 中楼层(共14层) | 2004年建 | 板楼\n",
      "*******\n",
      "95人关注 / 9天以前发布\n",
      "*******\n",
      "近地铁VR房源房本满五年\n",
      "*******\n",
      "658万单价75737元/平米\n",
      "*******\n",
      "-------\n",
      "\n",
      "电子城小区    -  酒仙桥 \n",
      "*******\n",
      "2室1厅 | 75.11平米 | 东南 | 简装 | 底层(共28层) | 2001年建 | 塔楼\n",
      "*******\n",
      "370人关注 / 7个月以前发布\n",
      "*******\n",
      "VR房源房本满五年\n",
      "*******\n",
      "385万单价51259元/平米\n",
      "*******\n",
      "-------\n",
      "\n",
      "CBD传奇    -  大望路 \n",
      "*******\n",
      "1室0厅 | 37.03平米 | 北 | 简装 | 低楼层(共20层) | 2007年建 | 板塔结合\n",
      "*******\n",
      "223人关注 / 1个月以前发布\n",
      "*******\n",
      "近地铁VR房源房本满五年随时看房\n",
      "*******\n",
      "261万单价70484元/平米\n",
      "*******\n",
      "-------\n",
      "\n",
      "首开知语城    -  望京 \n",
      "*******\n",
      "3室2厅 | 171.81平米 | 南 北 | 精装 | 13层 | 2008年建 | 板楼\n",
      "*******\n",
      "116人关注 / 2个月以前发布\n",
      "*******\n",
      "近地铁VR房源房本满五年\n",
      "*******\n",
      "1120万单价65189元/平米\n",
      "*******\n",
      "-------\n",
      "\n"
     ]
    },
    {
     "ename": "AttributeError",
     "evalue": "'NoneType' object has no attribute 'div'",
     "output_type": "error",
     "traceback": [
      "\u001b[0;31m---------------------------------------------------------------------------\u001b[0m",
      "\u001b[0;31mAttributeError\u001b[0m                            Traceback (most recent call last)",
      "\u001b[0;32m<ipython-input-392-cadbd143e4f0>\u001b[0m in \u001b[0;36m<module>\u001b[0;34m\u001b[0m\n\u001b[1;32m      6\u001b[0m \u001b[0;34m\u001b[0m\u001b[0m\n\u001b[1;32m      7\u001b[0m \u001b[0;34m\u001b[0m\u001b[0m\n\u001b[0;32m----> 8\u001b[0;31m     \u001b[0;32mfor\u001b[0m \u001b[0mi\u001b[0m \u001b[0;32min\u001b[0m \u001b[0mchild\u001b[0m\u001b[0;34m.\u001b[0m\u001b[0mdiv\u001b[0m\u001b[0;34m.\u001b[0m\u001b[0mdiv\u001b[0m\u001b[0;34m.\u001b[0m\u001b[0mnext_siblings\u001b[0m\u001b[0;34m:\u001b[0m\u001b[0;34m\u001b[0m\u001b[0;34m\u001b[0m\u001b[0m\n\u001b[0m\u001b[1;32m      9\u001b[0m         \u001b[0mprint\u001b[0m\u001b[0;34m(\u001b[0m\u001b[0mi\u001b[0m\u001b[0;34m.\u001b[0m\u001b[0mget_text\u001b[0m\u001b[0;34m(\u001b[0m\u001b[0;34m)\u001b[0m\u001b[0;34m)\u001b[0m\u001b[0;34m\u001b[0m\u001b[0;34m\u001b[0m\u001b[0m\n\u001b[1;32m     10\u001b[0m         \u001b[0mprint\u001b[0m\u001b[0;34m(\u001b[0m\u001b[0;34m\"*******\"\u001b[0m\u001b[0;34m)\u001b[0m\u001b[0;34m\u001b[0m\u001b[0;34m\u001b[0m\u001b[0m\n",
      "\u001b[0;31mAttributeError\u001b[0m: 'NoneType' object has no attribute 'div'"
     ]
    }
   ],
   "source": [
    "for child in soup.find('ul',{'class':'sellListContent'}).children:\n",
    "    \n",
    "    print(\"-------\")\n",
    "    print(child.a.get_text())\n",
    "    \n",
    "    \n",
    "    \n",
    "    for i in child.div.div.next_siblings:\n",
    "        print(i.get_text())\n",
    "        print(\"*******\")\n"
   ]
  },
  {
   "cell_type": "code",
   "execution_count": 349,
   "metadata": {},
   "outputs": [],
   "source": [
    "html2='<div class=\"info clear\"><div class=\"title\"><a class=\"\" data-el=\"ershoufang\" data-housecode=\"101106811479\" data-is_focus=\"\" data-log_index=\"2\" data-sl=\"\" href=\"https://bj.lianjia.com/ershoufang/101106811479.html\" target=\"_blank\">易构空间满五年唯一全南两居室，视野好，私密性好</a><!-- 拆分标签 只留一个优先级最高的标签--><span class=\"goodhouse_tag tagBlock\">必看好房</span></div><div class=\"flood\"><div class=\"positionInfo\"><span class=\"positionIcon\"></span><a data-el=\"region\" data-log_index=\"2\" href=\"https://bj.lianjia.com/xiaoqu/1111027381665/\" target=\"_blank\">易构空间 </a>   -  <a href=\"https://bj.lianjia.com/ershoufang/dawanglu/\" target=\"_blank\">大望路</a> </div></div><div class=\"address\"><div class=\"houseInfo\"><span class=\"houseIcon\"></span>2室1厅 | 86.88平米 | 南 | 精装 | 中楼层(共14层) | 2004年建 | 板楼</div></div><div class=\"followInfo\"><span class=\"starIcon\"></span>95人关注 / 9天以前发布</div><div class=\"tag\"><span class=\"subway\">近地铁</span><span class=\"vr\">VR房源</span><span class=\"taxfree\">房本满五年</span></div><div class=\"priceInfo\"><div class=\"totalPrice\"><span>658</span>万</div><div class=\"unitPrice\" data-hid=\"101106811479\" data-price=\"75737\" data-rid=\"1111027381665\"><span>单价75737元/平米</span></div></div></div>'"
   ]
  },
  {
   "cell_type": "code",
   "execution_count": 351,
   "metadata": {},
   "outputs": [],
   "source": [
    "soup = BeautifulSoup(html2,'lxml')"
   ]
  },
  {
   "cell_type": "code",
   "execution_count": 354,
   "metadata": {},
   "outputs": [
    {
     "name": "stdout",
     "output_type": "stream",
     "text": [
      "<html>\n",
      " <body>\n",
      "  <div class=\"info clear\">\n",
      "   <div class=\"title\">\n",
      "    <a class=\"\" data-el=\"ershoufang\" data-housecode=\"101106811479\" data-is_focus=\"\" data-log_index=\"2\" data-sl=\"\" href=\"https://bj.lianjia.com/ershoufang/101106811479.html\" target=\"_blank\">\n",
      "     易构空间满五年唯一全南两居室，视野好，私密性好\n",
      "    </a>\n",
      "    <!-- 拆分标签 只留一个优先级最高的标签-->\n",
      "    <span class=\"goodhouse_tag tagBlock\">\n",
      "     必看好房\n",
      "    </span>\n",
      "   </div>\n",
      "   <div class=\"flood\">\n",
      "    <div class=\"positionInfo\">\n",
      "     <span class=\"positionIcon\">\n",
      "     </span>\n",
      "     <a data-el=\"region\" data-log_index=\"2\" href=\"https://bj.lianjia.com/xiaoqu/1111027381665/\" target=\"_blank\">\n",
      "      易构空间\n",
      "     </a>\n",
      "     -\n",
      "     <a href=\"https://bj.lianjia.com/ershoufang/dawanglu/\" target=\"_blank\">\n",
      "      大望路\n",
      "     </a>\n",
      "    </div>\n",
      "   </div>\n",
      "   <div class=\"address\">\n",
      "    <div class=\"houseInfo\">\n",
      "     <span class=\"houseIcon\">\n",
      "     </span>\n",
      "     2室1厅 | 86.88平米 | 南 | 精装 | 中楼层(共14层) | 2004年建 | 板楼\n",
      "    </div>\n",
      "   </div>\n",
      "   <div class=\"followInfo\">\n",
      "    <span class=\"starIcon\">\n",
      "    </span>\n",
      "    95人关注 / 9天以前发布\n",
      "   </div>\n",
      "   <div class=\"tag\">\n",
      "    <span class=\"subway\">\n",
      "     近地铁\n",
      "    </span>\n",
      "    <span class=\"vr\">\n",
      "     VR房源\n",
      "    </span>\n",
      "    <span class=\"taxfree\">\n",
      "     房本满五年\n",
      "    </span>\n",
      "   </div>\n",
      "   <div class=\"priceInfo\">\n",
      "    <div class=\"totalPrice\">\n",
      "     <span>\n",
      "      658\n",
      "     </span>\n",
      "     万\n",
      "    </div>\n",
      "    <div class=\"unitPrice\" data-hid=\"101106811479\" data-price=\"75737\" data-rid=\"1111027381665\">\n",
      "     <span>\n",
      "      单价75737元/平米\n",
      "     </span>\n",
      "    </div>\n",
      "   </div>\n",
      "  </div>\n",
      " </body>\n",
      "</html>\n"
     ]
    }
   ],
   "source": [
    "print(soup.prettify())"
   ]
  },
  {
   "cell_type": "code",
   "execution_count": 444,
   "metadata": {},
   "outputs": [
    {
     "name": "stdout",
     "output_type": "stream",
     "text": [
      "宋家庄 小三居  高楼层 满五年唯一包含综合地价款\n",
      "460\n",
      "单价51547元/平米\n",
      "3室1厅 | 89.24平米 | 西北 | 简装 | 高楼层(共29层) | 2011年建 | 塔楼\n",
      "易构空间满五年唯一全南两居室，视野好，私密性好\n",
      "658\n",
      "单价75737元/平米\n",
      "2室1厅 | 86.88平米 | 南 | 精装 | 中楼层(共14层) | 2004年建 | 板楼\n",
      "（新）东南向2居 安静不临街 商品房\n",
      "385\n",
      "单价51259元/平米\n",
      "2室1厅 | 75.11平米 | 东南 | 简装 | 底层(共28层) | 2001年建 | 塔楼\n",
      "CBD传奇二期，聚焦房，北向带燃气，业主急售，有钥匙\n",
      "261\n",
      "单价70484元/平米\n",
      "1室0厅 | 37.03平米 | 北 | 简装 | 低楼层(共20层) | 2007年建 | 板塔结合\n",
      "望京知语城 精装修 满五唯一 正南北通透 拎包入住\n",
      "1120\n",
      "单价65189元/平米\n",
      "3室2厅 | 171.81平米 | 南 北 | 精装 | 13层 | 2008年建 | 板楼\n"
     ]
    },
    {
     "ename": "AttributeError",
     "evalue": "'NoneType' object has no attribute 'find'",
     "output_type": "error",
     "traceback": [
      "\u001b[0;31m---------------------------------------------------------------------------\u001b[0m",
      "\u001b[0;31mAttributeError\u001b[0m                            Traceback (most recent call last)",
      "\u001b[0;32m<ipython-input-444-2082a3fde9c8>\u001b[0m in \u001b[0;36m<module>\u001b[0;34m\u001b[0m\n\u001b[1;32m     27\u001b[0m \u001b[0;34m\u001b[0m\u001b[0m\n\u001b[1;32m     28\u001b[0m \u001b[0;34m\u001b[0m\u001b[0m\n\u001b[0;32m---> 29\u001b[0;31m \u001b[0mcrawl_page\u001b[0m\u001b[0;34m(\u001b[0m\u001b[0;34m)\u001b[0m\u001b[0;34m\u001b[0m\u001b[0;34m\u001b[0m\u001b[0m\n\u001b[0m\u001b[1;32m     30\u001b[0m \u001b[0mtime\u001b[0m\u001b[0;34m.\u001b[0m\u001b[0msleep\u001b[0m\u001b[0;34m(\u001b[0m\u001b[0;36m3\u001b[0m\u001b[0;34m)\u001b[0m\u001b[0;34m\u001b[0m\u001b[0;34m\u001b[0m\u001b[0m\n\u001b[1;32m     31\u001b[0m \u001b[0mdriver\u001b[0m\u001b[0;34m.\u001b[0m\u001b[0mfind_element_by_link_text\u001b[0m\u001b[0;34m(\u001b[0m\u001b[0;34m\"2\"\u001b[0m\u001b[0;34m)\u001b[0m\u001b[0;34m.\u001b[0m\u001b[0mclick\u001b[0m\u001b[0;34m(\u001b[0m\u001b[0;34m)\u001b[0m\u001b[0;34m\u001b[0m\u001b[0;34m\u001b[0m\u001b[0m\n",
      "\u001b[0;32m<ipython-input-444-2082a3fde9c8>\u001b[0m in \u001b[0;36mcrawl_page\u001b[0;34m()\u001b[0m\n\u001b[1;32m     15\u001b[0m \u001b[0;34m\u001b[0m\u001b[0m\n\u001b[1;32m     16\u001b[0m     \u001b[0;32mfor\u001b[0m \u001b[0minfo\u001b[0m \u001b[0;32min\u001b[0m \u001b[0minfos\u001b[0m\u001b[0;34m:\u001b[0m\u001b[0;34m\u001b[0m\u001b[0;34m\u001b[0m\u001b[0m\n\u001b[0;32m---> 17\u001b[0;31m         \u001b[0mname\u001b[0m \u001b[0;34m=\u001b[0m \u001b[0minfo\u001b[0m\u001b[0;34m.\u001b[0m\u001b[0mfind\u001b[0m\u001b[0;34m(\u001b[0m\u001b[0;34m'div'\u001b[0m\u001b[0;34m,\u001b[0m\u001b[0;34m{\u001b[0m\u001b[0;34m'class'\u001b[0m\u001b[0;34m:\u001b[0m\u001b[0;34m'title'\u001b[0m\u001b[0;34m}\u001b[0m\u001b[0;34m)\u001b[0m\u001b[0;34m.\u001b[0m\u001b[0mfind\u001b[0m\u001b[0;34m(\u001b[0m\u001b[0;34m'a'\u001b[0m\u001b[0;34m)\u001b[0m\u001b[0;34m.\u001b[0m\u001b[0mget_text\u001b[0m\u001b[0;34m(\u001b[0m\u001b[0;34m)\u001b[0m\u001b[0;34m\u001b[0m\u001b[0;34m\u001b[0m\u001b[0m\n\u001b[0m\u001b[1;32m     18\u001b[0m         \u001b[0mprint\u001b[0m\u001b[0;34m(\u001b[0m\u001b[0mname\u001b[0m\u001b[0;34m)\u001b[0m\u001b[0;34m\u001b[0m\u001b[0;34m\u001b[0m\u001b[0m\n\u001b[1;32m     19\u001b[0m         \u001b[0mtotalPrice\u001b[0m \u001b[0;34m=\u001b[0m \u001b[0minfo\u001b[0m\u001b[0;34m.\u001b[0m\u001b[0mfind\u001b[0m\u001b[0;34m(\u001b[0m\u001b[0;34m'div'\u001b[0m\u001b[0;34m,\u001b[0m\u001b[0;34m{\u001b[0m\u001b[0;34m'class'\u001b[0m\u001b[0;34m:\u001b[0m\u001b[0;34m'priceInfo'\u001b[0m\u001b[0;34m}\u001b[0m\u001b[0;34m)\u001b[0m\u001b[0;34m.\u001b[0m\u001b[0mfind\u001b[0m\u001b[0;34m(\u001b[0m\u001b[0;34m'div'\u001b[0m\u001b[0;34m,\u001b[0m\u001b[0;34m{\u001b[0m\u001b[0;34m'class'\u001b[0m\u001b[0;34m:\u001b[0m\u001b[0;34m'totalPrice'\u001b[0m\u001b[0;34m}\u001b[0m\u001b[0;34m)\u001b[0m\u001b[0;34m.\u001b[0m\u001b[0mfind\u001b[0m\u001b[0;34m(\u001b[0m\u001b[0;34m'span'\u001b[0m\u001b[0;34m)\u001b[0m\u001b[0;34m.\u001b[0m\u001b[0mget_text\u001b[0m\u001b[0;34m(\u001b[0m\u001b[0;34m)\u001b[0m\u001b[0;34m\u001b[0m\u001b[0;34m\u001b[0m\u001b[0m\n",
      "\u001b[0;31mAttributeError\u001b[0m: 'NoneType' object has no attribute 'find'"
     ]
    }
   ],
   "source": [
    "import selenium\n",
    "from selenium import webdriver\n",
    "driver = webdriver.Chrome(executable_path='/Users/liuhongyang/Desktop/chromedriver')\n",
    "import time\n",
    "\n",
    "driver.get(\"https://bj.lianjia.com/ershoufang/\")\n",
    "\n",
    "def crawl_page():\n",
    "    html = driver.page_source\n",
    "\n",
    "    soup = BeautifulSoup(html,'html.parser')\n",
    "\n",
    "    infos = soup.find('ul',{'class','sellListContent'}).find_all('li')\n",
    "\n",
    "\n",
    "    for info in infos:\n",
    "        name = info.find('div',{'class':'title'}).find('a').get_text()\n",
    "        print(name)\n",
    "        totalPrice = info.find('div',{'class':'priceInfo'}).find('div',{'class':'totalPrice'}).find('span').get_text()\n",
    "        print(totalPrice)\n",
    "        unitPrice = info.find('div',{'class':'priceInfo'}).find('div',{'class':'unitPrice'}).find('span').get_text()\n",
    "        print(unitPrice)\n",
    "        address = info.find('div',{'class','address'}).find('div',{'class','houseInfo'}).get_text()\n",
    "        print(address)\n",
    "        with open('lianjia.csv','a',encoding='utf-8') as f:\n",
    "            f.write(\"{},{},{},{}\\n\".format(name,totalPrice,unitPrice,address))\n",
    "\n",
    "\n",
    "crawl_page()\n",
    "time.sleep(3)\n",
    "driver.find_element_by_link_text(\"2\").click()\n",
    "crawl_page()\n",
    "time.sleep(3)\n",
    "driver.find_element_by_link_text(\"3\").click()\n",
    "crawl_page()\n",
    "driver.find_element_by_link_text(\"4\").click()\n",
    "crawl_page()\n",
    "driver.find_element_by_link_text(u\"下一页\").click()\n",
    "crawl_page()\n",
    "driver.find_element_by_link_text(u\"下一页\").click()\n",
    "crawl_page()\n",
    "\n"
   ]
  },
  {
   "cell_type": "code",
   "execution_count": 433,
   "metadata": {},
   "outputs": [],
   "source": [
    "import requests\n",
    "\n",
    "url = 'https://bj.lianjia.com/ershoufang/pg3/'\n",
    "\n",
    "headers={\n",
    "    'User-Agent':'Mozilla/5.0 (Macintosh; Intel Mac OS X 10_15_3) AppleWebKit/537.36 (KHTML, like Gecko) Chrome/80.0.3987.122 Safari/537.36'\n",
    "}\n",
    "\n",
    "\n",
    "resp = requests.get(url,headers=headers)\n",
    "\n",
    "\n",
    "#print(resp.content.decode('utf-8'))  网页内容 二进制\n",
    "# print(resp.text) 网络内容 文本\n",
    "\n",
    "soup = BeautifulSoup(resp.text,'lxml')\n",
    "\n",
    "infos = soup.find('ul',{'class','sellListContent'}).find_all('li')\n"
   ]
  },
  {
   "cell_type": "code",
   "execution_count": 438,
   "metadata": {},
   "outputs": [
    {
     "name": "stdout",
     "output_type": "stream",
     "text": [
      "不临街不把边 4层南北向三居室 一梯两户 接受换房\n",
      "445\n",
      "单价35660元/平米\n",
      "3室1厅 | 124.79平米 | 南 北 | 毛坯 | 中楼层(共6层) | 2008年建 | 板楼\n",
      "南北三居改大两居，精装修，诚心出售\n",
      "868\n",
      "单价70570元/平米\n",
      "3室1厅 | 123平米 | 南 北 | 精装 | 中楼层(共26层) | 2008年建 | 板塔结合\n",
      "炫彩嘉轩 正规一居室 视野开阔不临街\n",
      "375\n",
      "单价85364元/平米\n",
      "1室1厅 | 43.93平米 | 西 | 精装 | 高楼层(共21层) | 2006年建 | 板塔结合\n",
      "龙博苑小区南向正规一居室户型方正\n",
      "332\n",
      "单价55996元/平米\n",
      "1室1厅 | 59.29平米 | 南 | 精装 | 低楼层(共6层) | 2004年建 | 板楼\n",
      "本房是住宅  房子是七十年产权  业主诚意出售\n",
      "445\n",
      "单价37986元/平米\n",
      "2室1厅 | 117.15平米 | 东 北 | 精装 | 20层 | 1997年建 | 塔楼\n",
      "三环内 70年住宅 2居双卫 临近地铁8号线 交通便利\n",
      "555\n",
      "单价43428元/平米\n",
      "2室1厅 | 127.8平米 | 西北 | 简装 | 低楼层(共27层) | 1999年建 | 塔楼\n",
      "万科紫苑 南北通透全能小三居 精装修 保持好！\n",
      "670\n",
      "单价70364元/平米\n",
      "3室2厅 | 95.22平米 | 南 北 | 精装 | 低楼层(共15层) | 2011年建 | 板楼\n",
      "朝阳无限三居 满五唯一 带圆弧飘窗观景房 看房随时\n",
      "660\n",
      "单价44385元/平米\n",
      "3室2厅 | 148.7平米 | 东南 北 | 简装 | 顶层(共21层) | 2004年建 | 板塔结合\n",
      "满五年  南北双通透  诚心出售看房随时\n",
      "620\n",
      "单价43623元/平米\n",
      "3室2厅 | 142.13平米 | 南 北 | 毛坯 | 低楼层(共11层) | 2003年建 | 板楼\n",
      "天通苑东二区南北通透两居，商品房，户型方正\n",
      "388\n",
      "单价42873元/平米\n",
      "2室1厅 | 90.5平米 | 南 北 | 简装 | 中楼层(共7层) | 2001年建 | 板楼\n",
      "管理好 人文素质高   商品房  视野好\n",
      "820\n",
      "单价55775元/平米\n",
      "2室2厅 | 147.02平米 | 西北 | 简装 | 中楼层(共18层) | 1998年建 | 塔楼\n",
      "西什库什刹海北海北附近正规两居税少\n",
      "825\n",
      "单价158350元/平米\n",
      "2室1厅 | 52.1平米 | 南 北 | 简装 | 高楼层(共7层) | 1992年建 | 板楼\n",
      "精装修 中楼层 南北通透 满五唯一\n",
      "133\n",
      "单价18262元/平米\n",
      "3室1厅 | 72.83平米 | 南 北 | 精装 | 中楼层(共4层) | 1986年建 | 板楼\n",
      "西四环低密度德式花园下跃复式房源\n",
      "1195\n",
      "单价74852元/平米\n",
      "3室2厅 | 159.65平米 | 南 北 | 精装 | 底层(共7层) | 2012年建 | 板楼\n",
      "远洋一方，南向一居，中间楼层，满五唯一\n",
      "360\n",
      "单价55884元/平米\n",
      "1室1厅 | 64.42平米 | 南 | 精装 | 低楼层(共15层) | 2010年建 | 板塔结合\n",
      "万年花城  南北通透  前后带花园 板楼户型\n",
      "515\n",
      "单价68113元/平米\n",
      "2室1厅 | 75.61平米 | 南 北 | 精装 | 底层(共8层) | 2006年建 | 板楼\n",
      "郁花园一里 精装修 看房方便 落地飘窗\n",
      "280\n",
      "单价39955元/平米\n",
      "1室1厅 | 70.08平米 | 东 西 | 精装 | 中楼层(共6层) | 2001年建 | 板楼\n",
      "沸城南向两居室 看房方便 业主诚心出售\n",
      "349\n",
      "单价36983元/平米\n",
      "2室2厅 | 94.37平米 | 西南 | 简装 | 底层(共25层) | 2007年建 | 板塔结合\n",
      "四环内 地铁旁 低楼层 满五唯一\n",
      "329\n",
      "单价51367元/平米\n",
      "2室1厅 | 64.05平米 | 南 北 | 简装 | 底层(共5层) | 2000年建 | 板楼\n",
      "南北通透  把边户型  有钥匙 随时看\n",
      "268\n",
      "单价35488元/平米\n",
      "2室1厅 | 75.52平米 | 南 西 北 | 简装 | 顶层(共6层) | 2000年建 | 板楼\n",
      "南北向小两居 有钥匙看房方便 诚心出售\n",
      "229\n",
      "单价42345元/平米\n",
      "2室1厅 | 54.08平米 | 南 北 | 简装 | 中楼层(共6层) | 1990年建 | 板楼\n",
      "大峪南路一居室南北通透楼层适中，已满两年\n",
      "143\n",
      "单价36951元/平米\n",
      "1室1厅 | 38.7平米 | 南 北 | 简装 | 中楼层(共6层) | 1991年建 | 板楼\n",
      "汤泉墅南北通透正规两居室业主诚意出售\n",
      "315\n",
      "单价35051元/平米\n",
      "3室1厅 | 89.87平米 | 南 北 | 简装 | 中楼层(共6层) | 2011年建 | 板楼\n",
      "南北通透 带电梯 两居室 采光好\n",
      "305\n",
      "单价36358元/平米\n",
      "2室2厅 | 83.89平米 | 南 北 | 简装 | 顶层(共18层) | 2012年建 | 板塔结合\n",
      "满五年唯一 南北通透三居室 诚意出售 看房方便\n",
      "484.5\n",
      "单价38714元/平米\n",
      "3室1厅 | 125.15平米 | 南 北 | 简装 | 顶层(共6层) | 2003年建 | 板楼\n",
      "《555万》《两居室》《次顶层》\n",
      "555\n",
      "单价60936元/平米\n",
      "2室1厅 | 91.08平米 | 南 北 | 精装 | 高楼层(共21层) | 2012年建 | 板楼\n",
      "加州水郡带飘窗东向两居夏日看荷花\n",
      "245\n",
      "单价27640元/平米\n",
      "2室1厅 | 88.64平米 | 东 | 精装 | 顶层(共14层) | 2011年建 | 塔楼\n",
      "珠江御景南北通透，大三居，格局合理\n",
      "415\n",
      "单价31488元/平米\n",
      "3室1厅 | 131.8平米 | 南 北 | 其他 | 高楼层(共11层) | 2007年建 | 暂无数据\n",
      "精装修，小户型，总价低，无抵押\n",
      "318\n",
      "单价60967元/平米\n",
      "1室0厅 | 52.16平米 | 北 | 简装 | 中楼层(共24层) | 2008年建 | 板塔结合\n",
      "三环边 两居室 大阳台 2001年板楼 满五唯一 钢混结构\n",
      "329\n",
      "单价45474元/平米\n",
      "2室1厅 | 72.35平米 | 西 | 精装 | 顶层(共6层) | 2001年建 | 板楼\n"
     ]
    }
   ],
   "source": [
    "for info in infos:\n",
    "    name = info.find('div',{'class':'title'}).find('a').get_text()\n",
    "    print(name)\n",
    "    totalPrice = info.find('div',{'class':'priceInfo'}).find('div',{'class':'totalPrice'}).find('span').get_text()\n",
    "    print(totalPrice)\n",
    "    unitPrice = info.find('div',{'class':'priceInfo'}).find('div',{'class':'unitPrice'}).find('span').get_text()\n",
    "    print(unitPrice)\n",
    "    address = info.find('div',{'class','address'}).find('div',{'class','houseInfo'}).get_text()\n",
    "    print(address)\n",
    "    with open('lianjia.csv','a',encoding='utf-8') as f:\n",
    "        f.write(\"{},{},{},{}\\n\".format(name,totalPrice,unitPrice,address))"
   ]
  },
  {
   "cell_type": "code",
   "execution_count": null,
   "metadata": {},
   "outputs": [],
   "source": [
    "import requests\n",
    "import time\n",
    "url = 'https://bj.lianjia.com/ershoufang/pg3/'\n",
    "\n",
    "page = 100\n",
    "with open('lianjia.csv','a',encoding='utf-8') as f:\n",
    "    for i in range(page):\n",
    "        time.sleep(3)\n",
    "        url = 'https://bj.lianjia.com/ershoufang/pg'+str(i)\n",
    "\n",
    "\n",
    "        headers={\n",
    "            'User-Agent':'Mozilla/5.0 (Macintosh; Intel Mac OS X 10_15_3) AppleWebKit/537.36 (KHTML, like Gecko) Chrome/80.0.3987.122 Safari/537.36'\n",
    "        }\n",
    "\n",
    "        resp = requests.get(url,headers=headers)\n",
    "\n",
    "\n",
    "        # print(resp.content.decode('utf-8'))  网页内容 二进制\n",
    "        # print(resp.text) 网络内容 文本\n",
    "\n",
    "        soup = BeautifulSoup(resp.text,'lxml')\n",
    "\n",
    "        infos = soup.find('ul',{'class','sellListContent'}).find_all('li')\n",
    "\n",
    "\n",
    "\n",
    "        for info in infos:\n",
    "            name = info.find('div',{'class':'title'}).find('a').get_text()\n",
    "            #print(name)\n",
    "             \n",
    "            totalPrice = info.find('div',{'class':'priceInfo'}).find('div',{'class':'totalPrice'}).find('span').get_text()\n",
    "            #print(totalPrice)\n",
    "            unitPrice = info.find('div',{'class':'priceInfo'}).find('div',{'class':'unitPrice'}).find('span').get_text()\n",
    "            #print(unitPrice)\n",
    "            #address = info.find('div',{'class','address'}).find('div',{'class','houseInfo'}).get_text()\n",
    "           # print(address)\n",
    "\n",
    "            list = address.split(\"|\")\n",
    "            \n",
    "            \n",
    "            f.write(\"{},{},{}\\n\".format(name,totalPrice,unitPrice))"
   ]
  },
  {
   "cell_type": "code",
   "execution_count": null,
   "metadata": {},
   "outputs": [],
   "source": []
  }
 ],
 "metadata": {
  "kernelspec": {
   "display_name": "Python 3",
   "language": "python",
   "name": "python3"
  },
  "language_info": {
   "codemirror_mode": {
    "name": "ipython",
    "version": 3
   },
   "file_extension": ".py",
   "mimetype": "text/x-python",
   "name": "python",
   "nbconvert_exporter": "python",
   "pygments_lexer": "ipython3",
   "version": "3.7.3"
  }
 },
 "nbformat": 4,
 "nbformat_minor": 2
}
